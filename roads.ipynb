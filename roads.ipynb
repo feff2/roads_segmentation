{
 "cells": [
  {
   "cell_type": "code",
   "execution_count": 1,
   "id": "d97908b6-1ee5-4e0b-a608-c8a0485d8b2d",
   "metadata": {
    "tags": []
   },
   "outputs": [],
   "source": [
    "import cv2\n",
    "import pandas as pd\n",
    "import numpy as np\n",
    "import albumentations as A\n",
    "import random\n",
    "import torch\n",
    "import torch.nn as nn\n",
    "import torch.nn.functional as F\n",
    "import torch.optim as optim\n",
    "import time\n",
    "import segmentation_models_pytorch as smp\n",
    "import matplotlib.pyplot as plt\n",
    "\n",
    "from albumentations.pytorch import ToTensorV2\n",
    "from torch.optim.lr_scheduler import CosineAnnealingLR\n",
    "from torch.utils.data import Dataset, DataLoader\n",
    "from torchvision import transforms\n",
    "from torchvision.io import read_image, ImageReadMode\n",
    "from tqdm.notebook import trange, tqdm\n",
    "from PIL import Image\n",
    "\n",
    "%matplotlib inline"
   ]
  },
  {
   "cell_type": "code",
   "execution_count": 2,
   "id": "59111470-f605-424a-a2ce-d5071122423f",
   "metadata": {
    "tags": []
   },
   "outputs": [
    {
     "data": {
      "text/plain": [
       "device(type='cuda')"
      ]
     },
     "execution_count": 2,
     "metadata": {},
     "output_type": "execute_result"
    }
   ],
   "source": [
    "root_dir = \"tiff\"\n",
    "random_seed = 42 \n",
    "batch_size = 128\n",
    "\n",
    "device = torch.device('cuda') if torch.cuda.is_available() else torch.device('cpu')\n",
    "device"
   ]
  },
  {
   "cell_type": "code",
   "execution_count": 3,
   "id": "456319fa-be5a-4669-a4fc-64313f69d971",
   "metadata": {
    "tags": []
   },
   "outputs": [
    {
     "data": {
      "text/html": [
       "<div>\n",
       "<style scoped>\n",
       "    .dataframe tbody tr th:only-of-type {\n",
       "        vertical-align: middle;\n",
       "    }\n",
       "\n",
       "    .dataframe tbody tr th {\n",
       "        vertical-align: top;\n",
       "    }\n",
       "\n",
       "    .dataframe thead th {\n",
       "        text-align: right;\n",
       "    }\n",
       "</style>\n",
       "<table border=\"1\" class=\"dataframe\">\n",
       "  <thead>\n",
       "    <tr style=\"text-align: right;\">\n",
       "      <th></th>\n",
       "      <th>name</th>\n",
       "      <th>r</th>\n",
       "      <th>g</th>\n",
       "      <th>b</th>\n",
       "    </tr>\n",
       "  </thead>\n",
       "  <tbody>\n",
       "    <tr>\n",
       "      <th>0</th>\n",
       "      <td>background</td>\n",
       "      <td>0</td>\n",
       "      <td>0</td>\n",
       "      <td>0</td>\n",
       "    </tr>\n",
       "    <tr>\n",
       "      <th>1</th>\n",
       "      <td>road</td>\n",
       "      <td>255</td>\n",
       "      <td>255</td>\n",
       "      <td>255</td>\n",
       "    </tr>\n",
       "  </tbody>\n",
       "</table>\n",
       "</div>"
      ],
      "text/plain": [
       "         name    r    g    b\n",
       "0  background    0    0    0\n",
       "1        road  255  255  255"
      ]
     },
     "execution_count": 3,
     "metadata": {},
     "output_type": "execute_result"
    }
   ],
   "source": [
    "class_df = pd.read_csv(\"label_class_dict.csv\")\n",
    "class_df"
   ]
  },
  {
   "cell_type": "code",
   "execution_count": 4,
   "id": "32b2be36-e39c-4cfe-acf0-3dde5dc539a7",
   "metadata": {
    "tags": []
   },
   "outputs": [
    {
     "data": {
      "text/html": [
       "<div>\n",
       "<style scoped>\n",
       "    .dataframe tbody tr th:only-of-type {\n",
       "        vertical-align: middle;\n",
       "    }\n",
       "\n",
       "    .dataframe tbody tr th {\n",
       "        vertical-align: top;\n",
       "    }\n",
       "\n",
       "    .dataframe thead th {\n",
       "        text-align: right;\n",
       "    }\n",
       "</style>\n",
       "<table border=\"1\" class=\"dataframe\">\n",
       "  <thead>\n",
       "    <tr style=\"text-align: right;\">\n",
       "      <th></th>\n",
       "      <th>image_id</th>\n",
       "      <th>split</th>\n",
       "      <th>image_souce_url</th>\n",
       "      <th>label_source_url</th>\n",
       "      <th>tiff_image_path</th>\n",
       "      <th>tif_label_path</th>\n",
       "      <th>png_image_path</th>\n",
       "      <th>png_label_path</th>\n",
       "    </tr>\n",
       "  </thead>\n",
       "  <tbody>\n",
       "    <tr>\n",
       "      <th>0</th>\n",
       "      <td>10078660_15</td>\n",
       "      <td>train</td>\n",
       "      <td>http://www.cs.toronto.edu/~vmnih/data/mass_roa...</td>\n",
       "      <td>http://www.cs.toronto.edu/~vmnih/data/mass_roa...</td>\n",
       "      <td>tiff/train/10078660_15.tiff</td>\n",
       "      <td>tiff/train_labels/10078660_15.tif</td>\n",
       "      <td>png/train/10078660_15.png</td>\n",
       "      <td>png/train_labels/10078660_15.png</td>\n",
       "    </tr>\n",
       "    <tr>\n",
       "      <th>1</th>\n",
       "      <td>10078675_15</td>\n",
       "      <td>train</td>\n",
       "      <td>http://www.cs.toronto.edu/~vmnih/data/mass_roa...</td>\n",
       "      <td>http://www.cs.toronto.edu/~vmnih/data/mass_roa...</td>\n",
       "      <td>tiff/train/10078675_15.tiff</td>\n",
       "      <td>tiff/train_labels/10078675_15.tif</td>\n",
       "      <td>png/train/10078675_15.png</td>\n",
       "      <td>png/train_labels/10078675_15.png</td>\n",
       "    </tr>\n",
       "    <tr>\n",
       "      <th>2</th>\n",
       "      <td>10078690_15</td>\n",
       "      <td>train</td>\n",
       "      <td>http://www.cs.toronto.edu/~vmnih/data/mass_roa...</td>\n",
       "      <td>http://www.cs.toronto.edu/~vmnih/data/mass_roa...</td>\n",
       "      <td>tiff/train/10078690_15.tiff</td>\n",
       "      <td>tiff/train_labels/10078690_15.tif</td>\n",
       "      <td>png/train/10078690_15.png</td>\n",
       "      <td>png/train_labels/10078690_15.png</td>\n",
       "    </tr>\n",
       "    <tr>\n",
       "      <th>3</th>\n",
       "      <td>10078705_15</td>\n",
       "      <td>train</td>\n",
       "      <td>http://www.cs.toronto.edu/~vmnih/data/mass_roa...</td>\n",
       "      <td>http://www.cs.toronto.edu/~vmnih/data/mass_roa...</td>\n",
       "      <td>tiff/train/10078705_15.tiff</td>\n",
       "      <td>tiff/train_labels/10078705_15.tif</td>\n",
       "      <td>png/train/10078705_15.png</td>\n",
       "      <td>png/train_labels/10078705_15.png</td>\n",
       "    </tr>\n",
       "    <tr>\n",
       "      <th>4</th>\n",
       "      <td>10078720_15</td>\n",
       "      <td>train</td>\n",
       "      <td>http://www.cs.toronto.edu/~vmnih/data/mass_roa...</td>\n",
       "      <td>http://www.cs.toronto.edu/~vmnih/data/mass_roa...</td>\n",
       "      <td>tiff/train/10078720_15.tiff</td>\n",
       "      <td>tiff/train_labels/10078720_15.tif</td>\n",
       "      <td>png/train/10078720_15.png</td>\n",
       "      <td>png/train_labels/10078720_15.png</td>\n",
       "    </tr>\n",
       "    <tr>\n",
       "      <th>...</th>\n",
       "      <td>...</td>\n",
       "      <td>...</td>\n",
       "      <td>...</td>\n",
       "      <td>...</td>\n",
       "      <td>...</td>\n",
       "      <td>...</td>\n",
       "      <td>...</td>\n",
       "      <td>...</td>\n",
       "    </tr>\n",
       "    <tr>\n",
       "      <th>1166</th>\n",
       "      <td>25079170_15</td>\n",
       "      <td>test</td>\n",
       "      <td>http://www.cs.toronto.edu/~vmnih/data/mass_roa...</td>\n",
       "      <td>http://www.cs.toronto.edu/~vmnih/data/mass_roa...</td>\n",
       "      <td>tiff/test/25079170_15.tiff</td>\n",
       "      <td>tiff/test_labels/25079170_15.tif</td>\n",
       "      <td>png/test/25079170_15.png</td>\n",
       "      <td>png/test_labels/25079170_15.png</td>\n",
       "    </tr>\n",
       "    <tr>\n",
       "      <th>1167</th>\n",
       "      <td>26278720_15</td>\n",
       "      <td>test</td>\n",
       "      <td>http://www.cs.toronto.edu/~vmnih/data/mass_roa...</td>\n",
       "      <td>http://www.cs.toronto.edu/~vmnih/data/mass_roa...</td>\n",
       "      <td>tiff/test/26278720_15.tiff</td>\n",
       "      <td>tiff/test_labels/26278720_15.tif</td>\n",
       "      <td>png/test/26278720_15.png</td>\n",
       "      <td>png/test_labels/26278720_15.png</td>\n",
       "    </tr>\n",
       "    <tr>\n",
       "      <th>1168</th>\n",
       "      <td>26428735_15</td>\n",
       "      <td>test</td>\n",
       "      <td>http://www.cs.toronto.edu/~vmnih/data/mass_roa...</td>\n",
       "      <td>http://www.cs.toronto.edu/~vmnih/data/mass_roa...</td>\n",
       "      <td>tiff/test/26428735_15.tiff</td>\n",
       "      <td>tiff/test_labels/26428735_15.tif</td>\n",
       "      <td>png/test/26428735_15.png</td>\n",
       "      <td>png/test_labels/26428735_15.png</td>\n",
       "    </tr>\n",
       "    <tr>\n",
       "      <th>1169</th>\n",
       "      <td>26578720_15</td>\n",
       "      <td>test</td>\n",
       "      <td>http://www.cs.toronto.edu/~vmnih/data/mass_roa...</td>\n",
       "      <td>http://www.cs.toronto.edu/~vmnih/data/mass_roa...</td>\n",
       "      <td>tiff/test/26578720_15.tiff</td>\n",
       "      <td>tiff/test_labels/26578720_15.tif</td>\n",
       "      <td>png/test/26578720_15.png</td>\n",
       "      <td>png/test_labels/26578720_15.png</td>\n",
       "    </tr>\n",
       "    <tr>\n",
       "      <th>1170</th>\n",
       "      <td>26878690_15</td>\n",
       "      <td>test</td>\n",
       "      <td>http://www.cs.toronto.edu/~vmnih/data/mass_roa...</td>\n",
       "      <td>http://www.cs.toronto.edu/~vmnih/data/mass_roa...</td>\n",
       "      <td>tiff/test/26878690_15.tiff</td>\n",
       "      <td>tiff/test_labels/26878690_15.tif</td>\n",
       "      <td>png/test/26878690_15.png</td>\n",
       "      <td>png/test_labels/26878690_15.png</td>\n",
       "    </tr>\n",
       "  </tbody>\n",
       "</table>\n",
       "<p>1171 rows × 8 columns</p>\n",
       "</div>"
      ],
      "text/plain": [
       "         image_id  split                                    image_souce_url  \\\n",
       "0     10078660_15  train  http://www.cs.toronto.edu/~vmnih/data/mass_roa...   \n",
       "1     10078675_15  train  http://www.cs.toronto.edu/~vmnih/data/mass_roa...   \n",
       "2     10078690_15  train  http://www.cs.toronto.edu/~vmnih/data/mass_roa...   \n",
       "3     10078705_15  train  http://www.cs.toronto.edu/~vmnih/data/mass_roa...   \n",
       "4     10078720_15  train  http://www.cs.toronto.edu/~vmnih/data/mass_roa...   \n",
       "...           ...    ...                                                ...   \n",
       "1166  25079170_15   test  http://www.cs.toronto.edu/~vmnih/data/mass_roa...   \n",
       "1167  26278720_15   test  http://www.cs.toronto.edu/~vmnih/data/mass_roa...   \n",
       "1168  26428735_15   test  http://www.cs.toronto.edu/~vmnih/data/mass_roa...   \n",
       "1169  26578720_15   test  http://www.cs.toronto.edu/~vmnih/data/mass_roa...   \n",
       "1170  26878690_15   test  http://www.cs.toronto.edu/~vmnih/data/mass_roa...   \n",
       "\n",
       "                                       label_source_url  \\\n",
       "0     http://www.cs.toronto.edu/~vmnih/data/mass_roa...   \n",
       "1     http://www.cs.toronto.edu/~vmnih/data/mass_roa...   \n",
       "2     http://www.cs.toronto.edu/~vmnih/data/mass_roa...   \n",
       "3     http://www.cs.toronto.edu/~vmnih/data/mass_roa...   \n",
       "4     http://www.cs.toronto.edu/~vmnih/data/mass_roa...   \n",
       "...                                                 ...   \n",
       "1166  http://www.cs.toronto.edu/~vmnih/data/mass_roa...   \n",
       "1167  http://www.cs.toronto.edu/~vmnih/data/mass_roa...   \n",
       "1168  http://www.cs.toronto.edu/~vmnih/data/mass_roa...   \n",
       "1169  http://www.cs.toronto.edu/~vmnih/data/mass_roa...   \n",
       "1170  http://www.cs.toronto.edu/~vmnih/data/mass_roa...   \n",
       "\n",
       "                  tiff_image_path                     tif_label_path  \\\n",
       "0     tiff/train/10078660_15.tiff  tiff/train_labels/10078660_15.tif   \n",
       "1     tiff/train/10078675_15.tiff  tiff/train_labels/10078675_15.tif   \n",
       "2     tiff/train/10078690_15.tiff  tiff/train_labels/10078690_15.tif   \n",
       "3     tiff/train/10078705_15.tiff  tiff/train_labels/10078705_15.tif   \n",
       "4     tiff/train/10078720_15.tiff  tiff/train_labels/10078720_15.tif   \n",
       "...                           ...                                ...   \n",
       "1166   tiff/test/25079170_15.tiff   tiff/test_labels/25079170_15.tif   \n",
       "1167   tiff/test/26278720_15.tiff   tiff/test_labels/26278720_15.tif   \n",
       "1168   tiff/test/26428735_15.tiff   tiff/test_labels/26428735_15.tif   \n",
       "1169   tiff/test/26578720_15.tiff   tiff/test_labels/26578720_15.tif   \n",
       "1170   tiff/test/26878690_15.tiff   tiff/test_labels/26878690_15.tif   \n",
       "\n",
       "                 png_image_path                    png_label_path  \n",
       "0     png/train/10078660_15.png  png/train_labels/10078660_15.png  \n",
       "1     png/train/10078675_15.png  png/train_labels/10078675_15.png  \n",
       "2     png/train/10078690_15.png  png/train_labels/10078690_15.png  \n",
       "3     png/train/10078705_15.png  png/train_labels/10078705_15.png  \n",
       "4     png/train/10078720_15.png  png/train_labels/10078720_15.png  \n",
       "...                         ...                               ...  \n",
       "1166   png/test/25079170_15.png   png/test_labels/25079170_15.png  \n",
       "1167   png/test/26278720_15.png   png/test_labels/26278720_15.png  \n",
       "1168   png/test/26428735_15.png   png/test_labels/26428735_15.png  \n",
       "1169   png/test/26578720_15.png   png/test_labels/26578720_15.png  \n",
       "1170   png/test/26878690_15.png   png/test_labels/26878690_15.png  \n",
       "\n",
       "[1171 rows x 8 columns]"
      ]
     },
     "execution_count": 4,
     "metadata": {},
     "output_type": "execute_result"
    }
   ],
   "source": [
    "data_df = pd.read_csv(\"metadata.csv\")\n",
    "data_df"
   ]
  },
  {
   "cell_type": "code",
   "execution_count": 5,
   "id": "fa88e6c3-326d-4886-8bb1-2853cd19a629",
   "metadata": {
    "tags": []
   },
   "outputs": [
    {
     "name": "stdout",
     "output_type": "stream",
     "text": [
      "В test содержится 1108 изображений\n"
     ]
    },
    {
     "data": {
      "text/html": [
       "<div>\n",
       "<style scoped>\n",
       "    .dataframe tbody tr th:only-of-type {\n",
       "        vertical-align: middle;\n",
       "    }\n",
       "\n",
       "    .dataframe tbody tr th {\n",
       "        vertical-align: top;\n",
       "    }\n",
       "\n",
       "    .dataframe thead th {\n",
       "        text-align: right;\n",
       "    }\n",
       "</style>\n",
       "<table border=\"1\" class=\"dataframe\">\n",
       "  <thead>\n",
       "    <tr style=\"text-align: right;\">\n",
       "      <th></th>\n",
       "      <th>image_id</th>\n",
       "      <th>split</th>\n",
       "      <th>image_souce_url</th>\n",
       "      <th>label_source_url</th>\n",
       "      <th>tiff_image_path</th>\n",
       "      <th>tif_label_path</th>\n",
       "      <th>png_image_path</th>\n",
       "      <th>png_label_path</th>\n",
       "    </tr>\n",
       "  </thead>\n",
       "  <tbody>\n",
       "    <tr>\n",
       "      <th>0</th>\n",
       "      <td>10078660_15</td>\n",
       "      <td>train</td>\n",
       "      <td>http://www.cs.toronto.edu/~vmnih/data/mass_roa...</td>\n",
       "      <td>http://www.cs.toronto.edu/~vmnih/data/mass_roa...</td>\n",
       "      <td>tiff/train/10078660_15.tiff</td>\n",
       "      <td>tiff/train_labels/10078660_15.tif</td>\n",
       "      <td>png/train/10078660_15.png</td>\n",
       "      <td>png/train_labels/10078660_15.png</td>\n",
       "    </tr>\n",
       "    <tr>\n",
       "      <th>1</th>\n",
       "      <td>10078675_15</td>\n",
       "      <td>train</td>\n",
       "      <td>http://www.cs.toronto.edu/~vmnih/data/mass_roa...</td>\n",
       "      <td>http://www.cs.toronto.edu/~vmnih/data/mass_roa...</td>\n",
       "      <td>tiff/train/10078675_15.tiff</td>\n",
       "      <td>tiff/train_labels/10078675_15.tif</td>\n",
       "      <td>png/train/10078675_15.png</td>\n",
       "      <td>png/train_labels/10078675_15.png</td>\n",
       "    </tr>\n",
       "    <tr>\n",
       "      <th>2</th>\n",
       "      <td>10078690_15</td>\n",
       "      <td>train</td>\n",
       "      <td>http://www.cs.toronto.edu/~vmnih/data/mass_roa...</td>\n",
       "      <td>http://www.cs.toronto.edu/~vmnih/data/mass_roa...</td>\n",
       "      <td>tiff/train/10078690_15.tiff</td>\n",
       "      <td>tiff/train_labels/10078690_15.tif</td>\n",
       "      <td>png/train/10078690_15.png</td>\n",
       "      <td>png/train_labels/10078690_15.png</td>\n",
       "    </tr>\n",
       "    <tr>\n",
       "      <th>3</th>\n",
       "      <td>10078705_15</td>\n",
       "      <td>train</td>\n",
       "      <td>http://www.cs.toronto.edu/~vmnih/data/mass_roa...</td>\n",
       "      <td>http://www.cs.toronto.edu/~vmnih/data/mass_roa...</td>\n",
       "      <td>tiff/train/10078705_15.tiff</td>\n",
       "      <td>tiff/train_labels/10078705_15.tif</td>\n",
       "      <td>png/train/10078705_15.png</td>\n",
       "      <td>png/train_labels/10078705_15.png</td>\n",
       "    </tr>\n",
       "    <tr>\n",
       "      <th>4</th>\n",
       "      <td>10078720_15</td>\n",
       "      <td>train</td>\n",
       "      <td>http://www.cs.toronto.edu/~vmnih/data/mass_roa...</td>\n",
       "      <td>http://www.cs.toronto.edu/~vmnih/data/mass_roa...</td>\n",
       "      <td>tiff/train/10078720_15.tiff</td>\n",
       "      <td>tiff/train_labels/10078720_15.tif</td>\n",
       "      <td>png/train/10078720_15.png</td>\n",
       "      <td>png/train_labels/10078720_15.png</td>\n",
       "    </tr>\n",
       "    <tr>\n",
       "      <th>...</th>\n",
       "      <td>...</td>\n",
       "      <td>...</td>\n",
       "      <td>...</td>\n",
       "      <td>...</td>\n",
       "      <td>...</td>\n",
       "      <td>...</td>\n",
       "      <td>...</td>\n",
       "      <td>...</td>\n",
       "    </tr>\n",
       "    <tr>\n",
       "      <th>1103</th>\n",
       "      <td>27028705_15</td>\n",
       "      <td>train</td>\n",
       "      <td>http://www.cs.toronto.edu/~vmnih/data/mass_roa...</td>\n",
       "      <td>http://www.cs.toronto.edu/~vmnih/data/mass_roa...</td>\n",
       "      <td>tiff/train/27028705_15.tiff</td>\n",
       "      <td>tiff/train_labels/27028705_15.tif</td>\n",
       "      <td>png/train/27028705_15.png</td>\n",
       "      <td>png/train_labels/27028705_15.png</td>\n",
       "    </tr>\n",
       "    <tr>\n",
       "      <th>1104</th>\n",
       "      <td>27028720_15</td>\n",
       "      <td>train</td>\n",
       "      <td>http://www.cs.toronto.edu/~vmnih/data/mass_roa...</td>\n",
       "      <td>http://www.cs.toronto.edu/~vmnih/data/mass_roa...</td>\n",
       "      <td>tiff/train/27028720_15.tiff</td>\n",
       "      <td>tiff/train_labels/27028720_15.tif</td>\n",
       "      <td>png/train/27028720_15.png</td>\n",
       "      <td>png/train_labels/27028720_15.png</td>\n",
       "    </tr>\n",
       "    <tr>\n",
       "      <th>1105</th>\n",
       "      <td>27178705_15</td>\n",
       "      <td>train</td>\n",
       "      <td>http://www.cs.toronto.edu/~vmnih/data/mass_roa...</td>\n",
       "      <td>http://www.cs.toronto.edu/~vmnih/data/mass_roa...</td>\n",
       "      <td>tiff/train/27178705_15.tiff</td>\n",
       "      <td>tiff/train_labels/27178705_15.tif</td>\n",
       "      <td>png/train/27178705_15.png</td>\n",
       "      <td>png/train_labels/27178705_15.png</td>\n",
       "    </tr>\n",
       "    <tr>\n",
       "      <th>1106</th>\n",
       "      <td>99238660_15</td>\n",
       "      <td>train</td>\n",
       "      <td>http://www.cs.toronto.edu/~vmnih/data/mass_roa...</td>\n",
       "      <td>http://www.cs.toronto.edu/~vmnih/data/mass_roa...</td>\n",
       "      <td>tiff/train/99238660_15.tiff</td>\n",
       "      <td>tiff/train_labels/99238660_15.tif</td>\n",
       "      <td>png/train/99238660_15.png</td>\n",
       "      <td>png/train_labels/99238660_15.png</td>\n",
       "    </tr>\n",
       "    <tr>\n",
       "      <th>1107</th>\n",
       "      <td>99238675_15</td>\n",
       "      <td>train</td>\n",
       "      <td>http://www.cs.toronto.edu/~vmnih/data/mass_roa...</td>\n",
       "      <td>http://www.cs.toronto.edu/~vmnih/data/mass_roa...</td>\n",
       "      <td>tiff/train/99238675_15.tiff</td>\n",
       "      <td>tiff/train_labels/99238675_15.tif</td>\n",
       "      <td>png/train/99238675_15.png</td>\n",
       "      <td>png/train_labels/99238675_15.png</td>\n",
       "    </tr>\n",
       "  </tbody>\n",
       "</table>\n",
       "<p>1108 rows × 8 columns</p>\n",
       "</div>"
      ],
      "text/plain": [
       "         image_id  split                                    image_souce_url  \\\n",
       "0     10078660_15  train  http://www.cs.toronto.edu/~vmnih/data/mass_roa...   \n",
       "1     10078675_15  train  http://www.cs.toronto.edu/~vmnih/data/mass_roa...   \n",
       "2     10078690_15  train  http://www.cs.toronto.edu/~vmnih/data/mass_roa...   \n",
       "3     10078705_15  train  http://www.cs.toronto.edu/~vmnih/data/mass_roa...   \n",
       "4     10078720_15  train  http://www.cs.toronto.edu/~vmnih/data/mass_roa...   \n",
       "...           ...    ...                                                ...   \n",
       "1103  27028705_15  train  http://www.cs.toronto.edu/~vmnih/data/mass_roa...   \n",
       "1104  27028720_15  train  http://www.cs.toronto.edu/~vmnih/data/mass_roa...   \n",
       "1105  27178705_15  train  http://www.cs.toronto.edu/~vmnih/data/mass_roa...   \n",
       "1106  99238660_15  train  http://www.cs.toronto.edu/~vmnih/data/mass_roa...   \n",
       "1107  99238675_15  train  http://www.cs.toronto.edu/~vmnih/data/mass_roa...   \n",
       "\n",
       "                                       label_source_url  \\\n",
       "0     http://www.cs.toronto.edu/~vmnih/data/mass_roa...   \n",
       "1     http://www.cs.toronto.edu/~vmnih/data/mass_roa...   \n",
       "2     http://www.cs.toronto.edu/~vmnih/data/mass_roa...   \n",
       "3     http://www.cs.toronto.edu/~vmnih/data/mass_roa...   \n",
       "4     http://www.cs.toronto.edu/~vmnih/data/mass_roa...   \n",
       "...                                                 ...   \n",
       "1103  http://www.cs.toronto.edu/~vmnih/data/mass_roa...   \n",
       "1104  http://www.cs.toronto.edu/~vmnih/data/mass_roa...   \n",
       "1105  http://www.cs.toronto.edu/~vmnih/data/mass_roa...   \n",
       "1106  http://www.cs.toronto.edu/~vmnih/data/mass_roa...   \n",
       "1107  http://www.cs.toronto.edu/~vmnih/data/mass_roa...   \n",
       "\n",
       "                  tiff_image_path                     tif_label_path  \\\n",
       "0     tiff/train/10078660_15.tiff  tiff/train_labels/10078660_15.tif   \n",
       "1     tiff/train/10078675_15.tiff  tiff/train_labels/10078675_15.tif   \n",
       "2     tiff/train/10078690_15.tiff  tiff/train_labels/10078690_15.tif   \n",
       "3     tiff/train/10078705_15.tiff  tiff/train_labels/10078705_15.tif   \n",
       "4     tiff/train/10078720_15.tiff  tiff/train_labels/10078720_15.tif   \n",
       "...                           ...                                ...   \n",
       "1103  tiff/train/27028705_15.tiff  tiff/train_labels/27028705_15.tif   \n",
       "1104  tiff/train/27028720_15.tiff  tiff/train_labels/27028720_15.tif   \n",
       "1105  tiff/train/27178705_15.tiff  tiff/train_labels/27178705_15.tif   \n",
       "1106  tiff/train/99238660_15.tiff  tiff/train_labels/99238660_15.tif   \n",
       "1107  tiff/train/99238675_15.tiff  tiff/train_labels/99238675_15.tif   \n",
       "\n",
       "                 png_image_path                    png_label_path  \n",
       "0     png/train/10078660_15.png  png/train_labels/10078660_15.png  \n",
       "1     png/train/10078675_15.png  png/train_labels/10078675_15.png  \n",
       "2     png/train/10078690_15.png  png/train_labels/10078690_15.png  \n",
       "3     png/train/10078705_15.png  png/train_labels/10078705_15.png  \n",
       "4     png/train/10078720_15.png  png/train_labels/10078720_15.png  \n",
       "...                         ...                               ...  \n",
       "1103  png/train/27028705_15.png  png/train_labels/27028705_15.png  \n",
       "1104  png/train/27028720_15.png  png/train_labels/27028720_15.png  \n",
       "1105  png/train/27178705_15.png  png/train_labels/27178705_15.png  \n",
       "1106  png/train/99238660_15.png  png/train_labels/99238660_15.png  \n",
       "1107  png/train/99238675_15.png  png/train_labels/99238675_15.png  \n",
       "\n",
       "[1108 rows x 8 columns]"
      ]
     },
     "execution_count": 5,
     "metadata": {},
     "output_type": "execute_result"
    }
   ],
   "source": [
    "train_df = data_df.loc[data_df['split'] == 'train']\n",
    "print(f\"В test содержится {len(train_df)} изображений\")\n",
    "train_df"
   ]
  },
  {
   "cell_type": "code",
   "execution_count": 6,
   "id": "05ae8b7c-234b-41b2-911b-551389a8de65",
   "metadata": {
    "tags": []
   },
   "outputs": [
    {
     "name": "stdout",
     "output_type": "stream",
     "text": [
      "В test содержится 14 изображений\n"
     ]
    },
    {
     "data": {
      "text/html": [
       "<div>\n",
       "<style scoped>\n",
       "    .dataframe tbody tr th:only-of-type {\n",
       "        vertical-align: middle;\n",
       "    }\n",
       "\n",
       "    .dataframe tbody tr th {\n",
       "        vertical-align: top;\n",
       "    }\n",
       "\n",
       "    .dataframe thead th {\n",
       "        text-align: right;\n",
       "    }\n",
       "</style>\n",
       "<table border=\"1\" class=\"dataframe\">\n",
       "  <thead>\n",
       "    <tr style=\"text-align: right;\">\n",
       "      <th></th>\n",
       "      <th>image_id</th>\n",
       "      <th>split</th>\n",
       "      <th>image_souce_url</th>\n",
       "      <th>label_source_url</th>\n",
       "      <th>tiff_image_path</th>\n",
       "      <th>tif_label_path</th>\n",
       "      <th>png_image_path</th>\n",
       "      <th>png_label_path</th>\n",
       "    </tr>\n",
       "  </thead>\n",
       "  <tbody>\n",
       "    <tr>\n",
       "      <th>1108</th>\n",
       "      <td>10228690_15</td>\n",
       "      <td>val</td>\n",
       "      <td>http://www.cs.toronto.edu/~vmnih/data/mass_roa...</td>\n",
       "      <td>http://www.cs.toronto.edu/~vmnih/data/mass_roa...</td>\n",
       "      <td>tiff/val/10228690_15.tiff</td>\n",
       "      <td>tiff/val_labels/10228690_15.tif</td>\n",
       "      <td>png/val/10228690_15.png</td>\n",
       "      <td>png/val_labels/10228690_15.png</td>\n",
       "    </tr>\n",
       "    <tr>\n",
       "      <th>1109</th>\n",
       "      <td>10978735_15</td>\n",
       "      <td>val</td>\n",
       "      <td>http://www.cs.toronto.edu/~vmnih/data/mass_roa...</td>\n",
       "      <td>http://www.cs.toronto.edu/~vmnih/data/mass_roa...</td>\n",
       "      <td>tiff/val/10978735_15.tiff</td>\n",
       "      <td>tiff/val_labels/10978735_15.tif</td>\n",
       "      <td>png/val/10978735_15.png</td>\n",
       "      <td>png/val_labels/10978735_15.png</td>\n",
       "    </tr>\n",
       "    <tr>\n",
       "      <th>1110</th>\n",
       "      <td>10978795_15</td>\n",
       "      <td>val</td>\n",
       "      <td>http://www.cs.toronto.edu/~vmnih/data/mass_roa...</td>\n",
       "      <td>http://www.cs.toronto.edu/~vmnih/data/mass_roa...</td>\n",
       "      <td>tiff/val/10978795_15.tiff</td>\n",
       "      <td>tiff/val_labels/10978795_15.tif</td>\n",
       "      <td>png/val/10978795_15.png</td>\n",
       "      <td>png/val_labels/10978795_15.png</td>\n",
       "    </tr>\n",
       "    <tr>\n",
       "      <th>1111</th>\n",
       "      <td>18028945_15</td>\n",
       "      <td>val</td>\n",
       "      <td>http://www.cs.toronto.edu/~vmnih/data/mass_roa...</td>\n",
       "      <td>http://www.cs.toronto.edu/~vmnih/data/mass_roa...</td>\n",
       "      <td>tiff/val/18028945_15.tiff</td>\n",
       "      <td>tiff/val_labels/18028945_15.tif</td>\n",
       "      <td>png/val/18028945_15.png</td>\n",
       "      <td>png/val_labels/18028945_15.png</td>\n",
       "    </tr>\n",
       "    <tr>\n",
       "      <th>1112</th>\n",
       "      <td>21929020_15</td>\n",
       "      <td>val</td>\n",
       "      <td>http://www.cs.toronto.edu/~vmnih/data/mass_roa...</td>\n",
       "      <td>http://www.cs.toronto.edu/~vmnih/data/mass_roa...</td>\n",
       "      <td>tiff/val/21929020_15.tiff</td>\n",
       "      <td>tiff/val_labels/21929020_15.tif</td>\n",
       "      <td>png/val/21929020_15.png</td>\n",
       "      <td>png/val_labels/21929020_15.png</td>\n",
       "    </tr>\n",
       "    <tr>\n",
       "      <th>1113</th>\n",
       "      <td>22528900_15</td>\n",
       "      <td>val</td>\n",
       "      <td>http://www.cs.toronto.edu/~vmnih/data/mass_roa...</td>\n",
       "      <td>http://www.cs.toronto.edu/~vmnih/data/mass_roa...</td>\n",
       "      <td>tiff/val/22528900_15.tiff</td>\n",
       "      <td>tiff/val_labels/22528900_15.tif</td>\n",
       "      <td>png/val/22528900_15.png</td>\n",
       "      <td>png/val_labels/22528900_15.png</td>\n",
       "    </tr>\n",
       "    <tr>\n",
       "      <th>1114</th>\n",
       "      <td>22829035_15</td>\n",
       "      <td>val</td>\n",
       "      <td>http://www.cs.toronto.edu/~vmnih/data/mass_roa...</td>\n",
       "      <td>http://www.cs.toronto.edu/~vmnih/data/mass_roa...</td>\n",
       "      <td>tiff/val/22829035_15.tiff</td>\n",
       "      <td>tiff/val_labels/22829035_15.tif</td>\n",
       "      <td>png/val/22829035_15.png</td>\n",
       "      <td>png/val_labels/22829035_15.png</td>\n",
       "    </tr>\n",
       "    <tr>\n",
       "      <th>1115</th>\n",
       "      <td>22978990_15</td>\n",
       "      <td>val</td>\n",
       "      <td>http://www.cs.toronto.edu/~vmnih/data/mass_roa...</td>\n",
       "      <td>http://www.cs.toronto.edu/~vmnih/data/mass_roa...</td>\n",
       "      <td>tiff/val/22978990_15.tiff</td>\n",
       "      <td>tiff/val_labels/22978990_15.tif</td>\n",
       "      <td>png/val/22978990_15.png</td>\n",
       "      <td>png/val_labels/22978990_15.png</td>\n",
       "    </tr>\n",
       "    <tr>\n",
       "      <th>1116</th>\n",
       "      <td>23128930_15</td>\n",
       "      <td>val</td>\n",
       "      <td>http://www.cs.toronto.edu/~vmnih/data/mass_roa...</td>\n",
       "      <td>http://www.cs.toronto.edu/~vmnih/data/mass_roa...</td>\n",
       "      <td>tiff/val/23128930_15.tiff</td>\n",
       "      <td>tiff/val_labels/23128930_15.tif</td>\n",
       "      <td>png/val/23128930_15.png</td>\n",
       "      <td>png/val_labels/23128930_15.png</td>\n",
       "    </tr>\n",
       "    <tr>\n",
       "      <th>1117</th>\n",
       "      <td>24179245_15</td>\n",
       "      <td>val</td>\n",
       "      <td>http://www.cs.toronto.edu/~vmnih/data/mass_roa...</td>\n",
       "      <td>http://www.cs.toronto.edu/~vmnih/data/mass_roa...</td>\n",
       "      <td>tiff/val/24179245_15.tiff</td>\n",
       "      <td>tiff/val_labels/24179245_15.tif</td>\n",
       "      <td>png/val/24179245_15.png</td>\n",
       "      <td>png/val_labels/24179245_15.png</td>\n",
       "    </tr>\n",
       "    <tr>\n",
       "      <th>1118</th>\n",
       "      <td>24328810_15</td>\n",
       "      <td>val</td>\n",
       "      <td>http://www.cs.toronto.edu/~vmnih/data/mass_roa...</td>\n",
       "      <td>http://www.cs.toronto.edu/~vmnih/data/mass_roa...</td>\n",
       "      <td>tiff/val/24328810_15.tiff</td>\n",
       "      <td>tiff/val_labels/24328810_15.tif</td>\n",
       "      <td>png/val/24328810_15.png</td>\n",
       "      <td>png/val_labels/24328810_15.png</td>\n",
       "    </tr>\n",
       "    <tr>\n",
       "      <th>1119</th>\n",
       "      <td>24929245_15</td>\n",
       "      <td>val</td>\n",
       "      <td>http://www.cs.toronto.edu/~vmnih/data/mass_roa...</td>\n",
       "      <td>http://www.cs.toronto.edu/~vmnih/data/mass_roa...</td>\n",
       "      <td>tiff/val/24929245_15.tiff</td>\n",
       "      <td>tiff/val_labels/24929245_15.tif</td>\n",
       "      <td>png/val/24929245_15.png</td>\n",
       "      <td>png/val_labels/24929245_15.png</td>\n",
       "    </tr>\n",
       "    <tr>\n",
       "      <th>1120</th>\n",
       "      <td>25229230_15</td>\n",
       "      <td>val</td>\n",
       "      <td>http://www.cs.toronto.edu/~vmnih/data/mass_roa...</td>\n",
       "      <td>http://www.cs.toronto.edu/~vmnih/data/mass_roa...</td>\n",
       "      <td>tiff/val/25229230_15.tiff</td>\n",
       "      <td>tiff/val_labels/25229230_15.tif</td>\n",
       "      <td>png/val/25229230_15.png</td>\n",
       "      <td>png/val_labels/25229230_15.png</td>\n",
       "    </tr>\n",
       "    <tr>\n",
       "      <th>1121</th>\n",
       "      <td>25229245_15</td>\n",
       "      <td>val</td>\n",
       "      <td>http://www.cs.toronto.edu/~vmnih/data/mass_roa...</td>\n",
       "      <td>http://www.cs.toronto.edu/~vmnih/data/mass_roa...</td>\n",
       "      <td>tiff/val/25229245_15.tiff</td>\n",
       "      <td>tiff/val_labels/25229245_15.tif</td>\n",
       "      <td>png/val/25229245_15.png</td>\n",
       "      <td>png/val_labels/25229245_15.png</td>\n",
       "    </tr>\n",
       "  </tbody>\n",
       "</table>\n",
       "</div>"
      ],
      "text/plain": [
       "         image_id split                                    image_souce_url  \\\n",
       "1108  10228690_15   val  http://www.cs.toronto.edu/~vmnih/data/mass_roa...   \n",
       "1109  10978735_15   val  http://www.cs.toronto.edu/~vmnih/data/mass_roa...   \n",
       "1110  10978795_15   val  http://www.cs.toronto.edu/~vmnih/data/mass_roa...   \n",
       "1111  18028945_15   val  http://www.cs.toronto.edu/~vmnih/data/mass_roa...   \n",
       "1112  21929020_15   val  http://www.cs.toronto.edu/~vmnih/data/mass_roa...   \n",
       "1113  22528900_15   val  http://www.cs.toronto.edu/~vmnih/data/mass_roa...   \n",
       "1114  22829035_15   val  http://www.cs.toronto.edu/~vmnih/data/mass_roa...   \n",
       "1115  22978990_15   val  http://www.cs.toronto.edu/~vmnih/data/mass_roa...   \n",
       "1116  23128930_15   val  http://www.cs.toronto.edu/~vmnih/data/mass_roa...   \n",
       "1117  24179245_15   val  http://www.cs.toronto.edu/~vmnih/data/mass_roa...   \n",
       "1118  24328810_15   val  http://www.cs.toronto.edu/~vmnih/data/mass_roa...   \n",
       "1119  24929245_15   val  http://www.cs.toronto.edu/~vmnih/data/mass_roa...   \n",
       "1120  25229230_15   val  http://www.cs.toronto.edu/~vmnih/data/mass_roa...   \n",
       "1121  25229245_15   val  http://www.cs.toronto.edu/~vmnih/data/mass_roa...   \n",
       "\n",
       "                                       label_source_url  \\\n",
       "1108  http://www.cs.toronto.edu/~vmnih/data/mass_roa...   \n",
       "1109  http://www.cs.toronto.edu/~vmnih/data/mass_roa...   \n",
       "1110  http://www.cs.toronto.edu/~vmnih/data/mass_roa...   \n",
       "1111  http://www.cs.toronto.edu/~vmnih/data/mass_roa...   \n",
       "1112  http://www.cs.toronto.edu/~vmnih/data/mass_roa...   \n",
       "1113  http://www.cs.toronto.edu/~vmnih/data/mass_roa...   \n",
       "1114  http://www.cs.toronto.edu/~vmnih/data/mass_roa...   \n",
       "1115  http://www.cs.toronto.edu/~vmnih/data/mass_roa...   \n",
       "1116  http://www.cs.toronto.edu/~vmnih/data/mass_roa...   \n",
       "1117  http://www.cs.toronto.edu/~vmnih/data/mass_roa...   \n",
       "1118  http://www.cs.toronto.edu/~vmnih/data/mass_roa...   \n",
       "1119  http://www.cs.toronto.edu/~vmnih/data/mass_roa...   \n",
       "1120  http://www.cs.toronto.edu/~vmnih/data/mass_roa...   \n",
       "1121  http://www.cs.toronto.edu/~vmnih/data/mass_roa...   \n",
       "\n",
       "                tiff_image_path                   tif_label_path  \\\n",
       "1108  tiff/val/10228690_15.tiff  tiff/val_labels/10228690_15.tif   \n",
       "1109  tiff/val/10978735_15.tiff  tiff/val_labels/10978735_15.tif   \n",
       "1110  tiff/val/10978795_15.tiff  tiff/val_labels/10978795_15.tif   \n",
       "1111  tiff/val/18028945_15.tiff  tiff/val_labels/18028945_15.tif   \n",
       "1112  tiff/val/21929020_15.tiff  tiff/val_labels/21929020_15.tif   \n",
       "1113  tiff/val/22528900_15.tiff  tiff/val_labels/22528900_15.tif   \n",
       "1114  tiff/val/22829035_15.tiff  tiff/val_labels/22829035_15.tif   \n",
       "1115  tiff/val/22978990_15.tiff  tiff/val_labels/22978990_15.tif   \n",
       "1116  tiff/val/23128930_15.tiff  tiff/val_labels/23128930_15.tif   \n",
       "1117  tiff/val/24179245_15.tiff  tiff/val_labels/24179245_15.tif   \n",
       "1118  tiff/val/24328810_15.tiff  tiff/val_labels/24328810_15.tif   \n",
       "1119  tiff/val/24929245_15.tiff  tiff/val_labels/24929245_15.tif   \n",
       "1120  tiff/val/25229230_15.tiff  tiff/val_labels/25229230_15.tif   \n",
       "1121  tiff/val/25229245_15.tiff  tiff/val_labels/25229245_15.tif   \n",
       "\n",
       "               png_image_path                  png_label_path  \n",
       "1108  png/val/10228690_15.png  png/val_labels/10228690_15.png  \n",
       "1109  png/val/10978735_15.png  png/val_labels/10978735_15.png  \n",
       "1110  png/val/10978795_15.png  png/val_labels/10978795_15.png  \n",
       "1111  png/val/18028945_15.png  png/val_labels/18028945_15.png  \n",
       "1112  png/val/21929020_15.png  png/val_labels/21929020_15.png  \n",
       "1113  png/val/22528900_15.png  png/val_labels/22528900_15.png  \n",
       "1114  png/val/22829035_15.png  png/val_labels/22829035_15.png  \n",
       "1115  png/val/22978990_15.png  png/val_labels/22978990_15.png  \n",
       "1116  png/val/23128930_15.png  png/val_labels/23128930_15.png  \n",
       "1117  png/val/24179245_15.png  png/val_labels/24179245_15.png  \n",
       "1118  png/val/24328810_15.png  png/val_labels/24328810_15.png  \n",
       "1119  png/val/24929245_15.png  png/val_labels/24929245_15.png  \n",
       "1120  png/val/25229230_15.png  png/val_labels/25229230_15.png  \n",
       "1121  png/val/25229245_15.png  png/val_labels/25229245_15.png  "
      ]
     },
     "execution_count": 6,
     "metadata": {},
     "output_type": "execute_result"
    }
   ],
   "source": [
    "val_df = data_df.loc[data_df['split'] == 'val']\n",
    "print(f\"В test содержится {len(val_df)} изображений\")\n",
    "val_df"
   ]
  },
  {
   "cell_type": "code",
   "execution_count": 7,
   "id": "2ed23513-3bc2-4013-8a69-78e87941ba4c",
   "metadata": {
    "tags": []
   },
   "outputs": [
    {
     "name": "stdout",
     "output_type": "stream",
     "text": [
      "В test содержится 49 изображений\n"
     ]
    },
    {
     "data": {
      "text/html": [
       "<div>\n",
       "<style scoped>\n",
       "    .dataframe tbody tr th:only-of-type {\n",
       "        vertical-align: middle;\n",
       "    }\n",
       "\n",
       "    .dataframe tbody tr th {\n",
       "        vertical-align: top;\n",
       "    }\n",
       "\n",
       "    .dataframe thead th {\n",
       "        text-align: right;\n",
       "    }\n",
       "</style>\n",
       "<table border=\"1\" class=\"dataframe\">\n",
       "  <thead>\n",
       "    <tr style=\"text-align: right;\">\n",
       "      <th></th>\n",
       "      <th>image_id</th>\n",
       "      <th>split</th>\n",
       "      <th>image_souce_url</th>\n",
       "      <th>label_source_url</th>\n",
       "      <th>tiff_image_path</th>\n",
       "      <th>tif_label_path</th>\n",
       "      <th>png_image_path</th>\n",
       "      <th>png_label_path</th>\n",
       "    </tr>\n",
       "  </thead>\n",
       "  <tbody>\n",
       "    <tr>\n",
       "      <th>1122</th>\n",
       "      <td>10378780_15</td>\n",
       "      <td>test</td>\n",
       "      <td>http://www.cs.toronto.edu/~vmnih/data/mass_roa...</td>\n",
       "      <td>http://www.cs.toronto.edu/~vmnih/data/mass_roa...</td>\n",
       "      <td>tiff/test/10378780_15.tiff</td>\n",
       "      <td>tiff/test_labels/10378780_15.tif</td>\n",
       "      <td>png/test/10378780_15.png</td>\n",
       "      <td>png/test_labels/10378780_15.png</td>\n",
       "    </tr>\n",
       "    <tr>\n",
       "      <th>1123</th>\n",
       "      <td>10828720_15</td>\n",
       "      <td>test</td>\n",
       "      <td>http://www.cs.toronto.edu/~vmnih/data/mass_roa...</td>\n",
       "      <td>http://www.cs.toronto.edu/~vmnih/data/mass_roa...</td>\n",
       "      <td>tiff/test/10828720_15.tiff</td>\n",
       "      <td>tiff/test_labels/10828720_15.tif</td>\n",
       "      <td>png/test/10828720_15.png</td>\n",
       "      <td>png/test_labels/10828720_15.png</td>\n",
       "    </tr>\n",
       "    <tr>\n",
       "      <th>1124</th>\n",
       "      <td>11128870_15</td>\n",
       "      <td>test</td>\n",
       "      <td>http://www.cs.toronto.edu/~vmnih/data/mass_roa...</td>\n",
       "      <td>http://www.cs.toronto.edu/~vmnih/data/mass_roa...</td>\n",
       "      <td>tiff/test/11128870_15.tiff</td>\n",
       "      <td>tiff/test_labels/11128870_15.tif</td>\n",
       "      <td>png/test/11128870_15.png</td>\n",
       "      <td>png/test_labels/11128870_15.png</td>\n",
       "    </tr>\n",
       "    <tr>\n",
       "      <th>1125</th>\n",
       "      <td>11278840_15</td>\n",
       "      <td>test</td>\n",
       "      <td>http://www.cs.toronto.edu/~vmnih/data/mass_roa...</td>\n",
       "      <td>http://www.cs.toronto.edu/~vmnih/data/mass_roa...</td>\n",
       "      <td>tiff/test/11278840_15.tiff</td>\n",
       "      <td>tiff/test_labels/11278840_15.tif</td>\n",
       "      <td>png/test/11278840_15.png</td>\n",
       "      <td>png/test_labels/11278840_15.png</td>\n",
       "    </tr>\n",
       "    <tr>\n",
       "      <th>1126</th>\n",
       "      <td>11728825_15</td>\n",
       "      <td>test</td>\n",
       "      <td>http://www.cs.toronto.edu/~vmnih/data/mass_roa...</td>\n",
       "      <td>http://www.cs.toronto.edu/~vmnih/data/mass_roa...</td>\n",
       "      <td>tiff/test/11728825_15.tiff</td>\n",
       "      <td>tiff/test_labels/11728825_15.tif</td>\n",
       "      <td>png/test/11728825_15.png</td>\n",
       "      <td>png/test_labels/11728825_15.png</td>\n",
       "    </tr>\n",
       "    <tr>\n",
       "      <th>1127</th>\n",
       "      <td>12328750_15</td>\n",
       "      <td>test</td>\n",
       "      <td>http://www.cs.toronto.edu/~vmnih/data/mass_roa...</td>\n",
       "      <td>http://www.cs.toronto.edu/~vmnih/data/mass_roa...</td>\n",
       "      <td>tiff/test/12328750_15.tiff</td>\n",
       "      <td>tiff/test_labels/12328750_15.tif</td>\n",
       "      <td>png/test/12328750_15.png</td>\n",
       "      <td>png/test_labels/12328750_15.png</td>\n",
       "    </tr>\n",
       "    <tr>\n",
       "      <th>1128</th>\n",
       "      <td>15928855_15</td>\n",
       "      <td>test</td>\n",
       "      <td>http://www.cs.toronto.edu/~vmnih/data/mass_roa...</td>\n",
       "      <td>http://www.cs.toronto.edu/~vmnih/data/mass_roa...</td>\n",
       "      <td>tiff/test/15928855_15.tiff</td>\n",
       "      <td>tiff/test_labels/15928855_15.tif</td>\n",
       "      <td>png/test/15928855_15.png</td>\n",
       "      <td>png/test_labels/15928855_15.png</td>\n",
       "    </tr>\n",
       "    <tr>\n",
       "      <th>1129</th>\n",
       "      <td>16078870_15</td>\n",
       "      <td>test</td>\n",
       "      <td>http://www.cs.toronto.edu/~vmnih/data/mass_roa...</td>\n",
       "      <td>http://www.cs.toronto.edu/~vmnih/data/mass_roa...</td>\n",
       "      <td>tiff/test/16078870_15.tiff</td>\n",
       "      <td>tiff/test_labels/16078870_15.tif</td>\n",
       "      <td>png/test/16078870_15.png</td>\n",
       "      <td>png/test_labels/16078870_15.png</td>\n",
       "    </tr>\n",
       "    <tr>\n",
       "      <th>1130</th>\n",
       "      <td>17878735_15</td>\n",
       "      <td>test</td>\n",
       "      <td>http://www.cs.toronto.edu/~vmnih/data/mass_roa...</td>\n",
       "      <td>http://www.cs.toronto.edu/~vmnih/data/mass_roa...</td>\n",
       "      <td>tiff/test/17878735_15.tiff</td>\n",
       "      <td>tiff/test_labels/17878735_15.tif</td>\n",
       "      <td>png/test/17878735_15.png</td>\n",
       "      <td>png/test_labels/17878735_15.png</td>\n",
       "    </tr>\n",
       "    <tr>\n",
       "      <th>1131</th>\n",
       "      <td>17878780_15</td>\n",
       "      <td>test</td>\n",
       "      <td>http://www.cs.toronto.edu/~vmnih/data/mass_roa...</td>\n",
       "      <td>http://www.cs.toronto.edu/~vmnih/data/mass_roa...</td>\n",
       "      <td>tiff/test/17878780_15.tiff</td>\n",
       "      <td>tiff/test_labels/17878780_15.tif</td>\n",
       "      <td>png/test/17878780_15.png</td>\n",
       "      <td>png/test_labels/17878780_15.png</td>\n",
       "    </tr>\n",
       "  </tbody>\n",
       "</table>\n",
       "</div>"
      ],
      "text/plain": [
       "         image_id split                                    image_souce_url  \\\n",
       "1122  10378780_15  test  http://www.cs.toronto.edu/~vmnih/data/mass_roa...   \n",
       "1123  10828720_15  test  http://www.cs.toronto.edu/~vmnih/data/mass_roa...   \n",
       "1124  11128870_15  test  http://www.cs.toronto.edu/~vmnih/data/mass_roa...   \n",
       "1125  11278840_15  test  http://www.cs.toronto.edu/~vmnih/data/mass_roa...   \n",
       "1126  11728825_15  test  http://www.cs.toronto.edu/~vmnih/data/mass_roa...   \n",
       "1127  12328750_15  test  http://www.cs.toronto.edu/~vmnih/data/mass_roa...   \n",
       "1128  15928855_15  test  http://www.cs.toronto.edu/~vmnih/data/mass_roa...   \n",
       "1129  16078870_15  test  http://www.cs.toronto.edu/~vmnih/data/mass_roa...   \n",
       "1130  17878735_15  test  http://www.cs.toronto.edu/~vmnih/data/mass_roa...   \n",
       "1131  17878780_15  test  http://www.cs.toronto.edu/~vmnih/data/mass_roa...   \n",
       "\n",
       "                                       label_source_url  \\\n",
       "1122  http://www.cs.toronto.edu/~vmnih/data/mass_roa...   \n",
       "1123  http://www.cs.toronto.edu/~vmnih/data/mass_roa...   \n",
       "1124  http://www.cs.toronto.edu/~vmnih/data/mass_roa...   \n",
       "1125  http://www.cs.toronto.edu/~vmnih/data/mass_roa...   \n",
       "1126  http://www.cs.toronto.edu/~vmnih/data/mass_roa...   \n",
       "1127  http://www.cs.toronto.edu/~vmnih/data/mass_roa...   \n",
       "1128  http://www.cs.toronto.edu/~vmnih/data/mass_roa...   \n",
       "1129  http://www.cs.toronto.edu/~vmnih/data/mass_roa...   \n",
       "1130  http://www.cs.toronto.edu/~vmnih/data/mass_roa...   \n",
       "1131  http://www.cs.toronto.edu/~vmnih/data/mass_roa...   \n",
       "\n",
       "                 tiff_image_path                    tif_label_path  \\\n",
       "1122  tiff/test/10378780_15.tiff  tiff/test_labels/10378780_15.tif   \n",
       "1123  tiff/test/10828720_15.tiff  tiff/test_labels/10828720_15.tif   \n",
       "1124  tiff/test/11128870_15.tiff  tiff/test_labels/11128870_15.tif   \n",
       "1125  tiff/test/11278840_15.tiff  tiff/test_labels/11278840_15.tif   \n",
       "1126  tiff/test/11728825_15.tiff  tiff/test_labels/11728825_15.tif   \n",
       "1127  tiff/test/12328750_15.tiff  tiff/test_labels/12328750_15.tif   \n",
       "1128  tiff/test/15928855_15.tiff  tiff/test_labels/15928855_15.tif   \n",
       "1129  tiff/test/16078870_15.tiff  tiff/test_labels/16078870_15.tif   \n",
       "1130  tiff/test/17878735_15.tiff  tiff/test_labels/17878735_15.tif   \n",
       "1131  tiff/test/17878780_15.tiff  tiff/test_labels/17878780_15.tif   \n",
       "\n",
       "                png_image_path                   png_label_path  \n",
       "1122  png/test/10378780_15.png  png/test_labels/10378780_15.png  \n",
       "1123  png/test/10828720_15.png  png/test_labels/10828720_15.png  \n",
       "1124  png/test/11128870_15.png  png/test_labels/11128870_15.png  \n",
       "1125  png/test/11278840_15.png  png/test_labels/11278840_15.png  \n",
       "1126  png/test/11728825_15.png  png/test_labels/11728825_15.png  \n",
       "1127  png/test/12328750_15.png  png/test_labels/12328750_15.png  \n",
       "1128  png/test/15928855_15.png  png/test_labels/15928855_15.png  \n",
       "1129  png/test/16078870_15.png  png/test_labels/16078870_15.png  \n",
       "1130  png/test/17878735_15.png  png/test_labels/17878735_15.png  \n",
       "1131  png/test/17878780_15.png  png/test_labels/17878780_15.png  "
      ]
     },
     "execution_count": 7,
     "metadata": {},
     "output_type": "execute_result"
    }
   ],
   "source": [
    "test_df = data_df.loc[data_df['split'] == 'test']\n",
    "print(f\"В test содержится {len(test_df)} изображений\")\n",
    "test_df[:10]"
   ]
  },
  {
   "cell_type": "code",
   "execution_count": 8,
   "id": "09e14936-a232-4c26-9024-e7e26c705de4",
   "metadata": {
    "tags": []
   },
   "outputs": [],
   "source": [
    "class RoadDataset(Dataset):\n",
    "    def __init__(self, df, mode, root=root_dir):\n",
    "        self.df = df\n",
    "        self.rescale_size = 224\n",
    "        self.mode = mode\n",
    "        \n",
    "    def __len__(self):\n",
    "        return len(self.df)\n",
    "    \n",
    "    def aug(self, image, mask):\n",
    "        if self.mode == \"train\":\n",
    "            transform = A.Compose([\n",
    "                A.Resize(224, 224),\n",
    "                A.HorizontalFlip(p=0.5),\n",
    "                A.VerticalFlip(p=0.5),\n",
    "                A.Normalize(mean=[0.5], std=[0.25]),\n",
    "                ToTensorV2(),\n",
    "            ])\n",
    "        else:\n",
    "            transform = A.Compose([\n",
    "                A.Resize(224, 224),\n",
    "                A.Normalize(mean=[0.5], std=[0.25]),\n",
    "                ToTensorV2(),\n",
    "            ])\n",
    "        transformed = transform(image=image, mask=mask)\n",
    "        return transformed['image'], transformed['mask']\n",
    "        \n",
    "    def __getitem__(self, idx):\n",
    "        img_path = self.df.iloc[idx]['tiff_image_path']\n",
    "        mask_path = self.df.iloc[idx]['tif_label_path']\n",
    "        image = Image.open(img_path)\n",
    "        label = Image.open(mask_path)\n",
    "\n",
    "        bw_image_array = np.array(label)\n",
    "        color_image_array = np.array(image)\n",
    "\n",
    "        top_left_x = random.randint(0, 1500 - 224)\n",
    "        top_left_y = random.randint(0, 1500 - 224)\n",
    "            \n",
    "        bw_square = bw_image_array[top_left_y:top_left_y + 224, top_left_x:top_left_x + 224]\n",
    "            \n",
    "        color_square = color_image_array[top_left_y:top_left_y + 224, top_left_x:top_left_x + 224, :]\n",
    "\n",
    "        white_pixels = np.sum(bw_square == 1)\n",
    "        total_pixels = np.prod(bw_square.shape)\n",
    "        while (white_pixels / total_pixels) < 0.02:\n",
    "            top_left_x = random.randint(0, 1500 - 224)\n",
    "            top_left_y = random.randint(0, 1500 - 224)\n",
    "            bw_square = bw_image_array[top_left_y:top_left_y + 224, top_left_x:top_left_x + 224]\n",
    "            color_square = color_image_array[top_left_y:top_left_y + 224, top_left_x:top_left_x + 224, :]\n",
    "            white_pixels = np.sum(bw_square == 255)\n",
    "            total_pixels = np.prod(bw_square.shape)\n",
    "\n",
    "        image, mask = self.aug(color_square, bw_square)\n",
    "        \n",
    "        return image, mask"
   ]
  },
  {
   "cell_type": "code",
   "execution_count": 9,
   "id": "27a2c170-0a10-40f6-abcd-4e4777221d1e",
   "metadata": {
    "tags": []
   },
   "outputs": [],
   "source": [
    "train_dataset = RoadDataset(train_df, \"train\")\n",
    "val_dataset = RoadDataset(val_df, \"val\")\n",
    "test_dataset = RoadDataset(test_df, \"test\")\n",
    "\n",
    "train_loader = DataLoader(train_dataset, batch_size=batch_size,shuffle=True)\n",
    "val_loader = DataLoader(val_dataset, batch_size=batch_size,shuffle=False)\n",
    "test_loader = DataLoader(test_dataset, batch_size=batch_size,shuffle=False)"
   ]
  },
  {
   "cell_type": "code",
   "execution_count": 12,
   "id": "36bc0cfc-5fca-4925-9e80-4839060b7835",
   "metadata": {
    "tags": []
   },
   "outputs": [
    {
     "data": {
      "application/vnd.jupyter.widget-view+json": {
       "model_id": "908abdcf330a49f4a33eb693531f74a6",
       "version_major": 2,
       "version_minor": 0
      },
      "text/plain": [
       "  0%|          | 0/10 [00:00<?, ?it/s]"
      ]
     },
     "metadata": {},
     "output_type": "display_data"
    },
    {
     "data": {
      "application/vnd.jupyter.widget-view+json": {
       "model_id": "33b04d550a57416e8d92a7e16fcea094",
       "version_major": 2,
       "version_minor": 0
      },
      "text/plain": [
       "  0%|          | 0/9 [00:00<?, ?it/s]"
      ]
     },
     "metadata": {},
     "output_type": "display_data"
    },
    {
     "name": "stdout",
     "output_type": "stream",
     "text": [
      "Mean train loss at this stage is -3.4089343514707355, IoU = 0.12296790110656396\n"
     ]
    },
    {
     "data": {
      "application/vnd.jupyter.widget-view+json": {
       "model_id": "7f7730da1fd4434b80f543b093c4fae9",
       "version_major": 2,
       "version_minor": 0
      },
      "text/plain": [
       "  0%|          | 0/1 [00:00<?, ?it/s]"
      ]
     },
     "metadata": {},
     "output_type": "display_data"
    },
    {
     "name": "stdout",
     "output_type": "stream",
     "text": [
      "Mean validation loss at this stage is 20.036531448364258, IoU = 0.040992256561365036\n"
     ]
    },
    {
     "data": {
      "application/vnd.jupyter.widget-view+json": {
       "model_id": "4f7a7f8c4cbd43e1b2da8eaeab2f92f9",
       "version_major": 2,
       "version_minor": 0
      },
      "text/plain": [
       "  0%|          | 0/9 [00:00<?, ?it/s]"
      ]
     },
     "metadata": {},
     "output_type": "display_data"
    },
    {
     "name": "stdout",
     "output_type": "stream",
     "text": [
      "Mean train loss at this stage is -43.50849596659342, IoU = 0.28101674732662274\n"
     ]
    },
    {
     "data": {
      "application/vnd.jupyter.widget-view+json": {
       "model_id": "6f243a59e7084cecad89e06b58325efc",
       "version_major": 2,
       "version_minor": 0
      },
      "text/plain": [
       "  0%|          | 0/1 [00:00<?, ?it/s]"
      ]
     },
     "metadata": {},
     "output_type": "display_data"
    },
    {
     "name": "stdout",
     "output_type": "stream",
     "text": [
      "Mean validation loss at this stage is -47.402626037597656, IoU = 0.29616038664637967\n"
     ]
    },
    {
     "data": {
      "application/vnd.jupyter.widget-view+json": {
       "model_id": "f1f399a0c11849aeb81e6084059016d1",
       "version_major": 2,
       "version_minor": 0
      },
      "text/plain": [
       "  0%|          | 0/9 [00:00<?, ?it/s]"
      ]
     },
     "metadata": {},
     "output_type": "display_data"
    },
    {
     "name": "stdout",
     "output_type": "stream",
     "text": [
      "Mean train loss at this stage is -73.38993369208441, IoU = 0.3121989022068039\n"
     ]
    },
    {
     "data": {
      "application/vnd.jupyter.widget-view+json": {
       "model_id": "73b05ebf6e6f4ac78c29d49a7c714d9f",
       "version_major": 2,
       "version_minor": 0
      },
      "text/plain": [
       "  0%|          | 0/1 [00:00<?, ?it/s]"
      ]
     },
     "metadata": {},
     "output_type": "display_data"
    },
    {
     "name": "stdout",
     "output_type": "stream",
     "text": [
      "Mean validation loss at this stage is -97.19688415527344, IoU = 0.39352448453608246\n"
     ]
    },
    {
     "data": {
      "application/vnd.jupyter.widget-view+json": {
       "model_id": "401d8dfc74224891bfef0ab5e58aee07",
       "version_major": 2,
       "version_minor": 0
      },
      "text/plain": [
       "  0%|          | 0/9 [00:00<?, ?it/s]"
      ]
     },
     "metadata": {},
     "output_type": "display_data"
    },
    {
     "name": "stdout",
     "output_type": "stream",
     "text": [
      "Mean train loss at this stage is -100.60332573784723, IoU = 0.336768793598928\n"
     ]
    },
    {
     "data": {
      "application/vnd.jupyter.widget-view+json": {
       "model_id": "665dd02468d74818af328741ea2e60b9",
       "version_major": 2,
       "version_minor": 0
      },
      "text/plain": [
       "  0%|          | 0/1 [00:00<?, ?it/s]"
      ]
     },
     "metadata": {},
     "output_type": "display_data"
    },
    {
     "name": "stdout",
     "output_type": "stream",
     "text": [
      "Mean validation loss at this stage is -151.16163635253906, IoU = 0.40085012934942643\n"
     ]
    },
    {
     "data": {
      "application/vnd.jupyter.widget-view+json": {
       "model_id": "4f70924dc8c04dc5ae84a9fe85d90bbf",
       "version_major": 2,
       "version_minor": 0
      },
      "text/plain": [
       "  0%|          | 0/9 [00:00<?, ?it/s]"
      ]
     },
     "metadata": {},
     "output_type": "display_data"
    },
    {
     "name": "stderr",
     "output_type": "stream",
     "text": [
      "\n",
      "KeyboardInterrupt\n",
      "\n"
     ]
    }
   ],
   "source": [
    "from torchvision.transforms import ToPILImage\n",
    "from torchvision.utils import make_grid\n",
    "num_epochs = 10\n",
    "base_lr = 0.001\n",
    "model = smp.Unet(encoder_name='resnet34', in_channels=3, classes=1).to(device)\n",
    "criterion = nn.BCEWithLogitsLoss()\n",
    "optimizer = optim.AdamW(model.parameters(), lr=base_lr, weight_decay=0.001)\n",
    "scheduler = CosineAnnealingLR(optimizer, T_max=num_epochs)\n",
    "\n",
    "for i in trange(num_epochs):\n",
    "    train_loss = []\n",
    "    train_iou = []\n",
    "    for data,labels in tqdm(train_loader):\n",
    "        model.train()\n",
    "        data, labels = data.to(device), labels.to(device)\n",
    "        optimizer.zero_grad()\n",
    "        pred = model(data)\n",
    "        labels = labels.float().unsqueeze(1)\n",
    "        \n",
    "        pred = pred.to(device)\n",
    "        loss = criterion(pred,labels)\n",
    "        loss.backward()\n",
    "        optimizer.step()\n",
    "        \n",
    "        predicted_masks = (pred > 0.5).float()\n",
    "        intersection = torch.logical_and(predicted_masks, labels).sum().item()\n",
    "        union = torch.logical_or(predicted_masks, labels).sum().item()\n",
    "        iou = intersection / union if union != 0 else 0\n",
    "        \n",
    "        train_loss.append(loss.item())\n",
    "        train_iou.append(iou)\n",
    "    print(f\"Mean train loss at this stage is {(np.array(train_loss).mean())}, IoU = {(np.array(train_iou).mean())}\")\n",
    "    with torch.no_grad():\n",
    "        val_loss = []\n",
    "        val_iou = []\n",
    "        for data,labels in tqdm(val_loader):\n",
    "            model.eval()\n",
    "\n",
    "            data, labels = data.to(device), labels.to(device)\n",
    "\n",
    "            pred = model(data)\n",
    "            labels = labels.float().unsqueeze(1)\n",
    "            loss = criterion(pred, labels)\n",
    "    \n",
    "            predicted_masks = (pred > 0.5).float()\n",
    "            intersection = torch.logical_and(predicted_masks, labels).sum().item()\n",
    "            union = torch.logical_or(predicted_masks, labels).sum().item()\n",
    "            iou = intersection / union if union != 0 else 0\n",
    "            \n",
    "            val_loss.append(loss.item())\n",
    "            val_iou.append(iou)\n",
    "        \n",
    "    print(f\"Mean validation loss at this stage is {(np.array(val_loss).mean())}, IoU = {(np.array(val_iou).mean())}\")\n",
    "    if np.array(val_iou).mean() > best_iou:\n",
    "        best_iou = np.array(val_iou).mean()\n",
    "        torch.save(model.state_dict(), \"model.pt\")\n",
    "    scheduler.step()"
   ]
  },
  {
   "cell_type": "code",
   "execution_count": 13,
   "id": "4d9e3ab8-7f2a-419b-835b-ce8d066f96aa",
   "metadata": {},
   "outputs": [],
   "source": [
    "torch.cuda.empty_cache()"
   ]
  },
  {
   "cell_type": "code",
   "execution_count": 14,
   "id": "d169329a-ab40-46a0-9cf6-e7a0d3e180a7",
   "metadata": {},
   "outputs": [
    {
     "data": {
      "application/vnd.jupyter.widget-view+json": {
       "model_id": "9ae9f2c15ad14f8bbfc9e518baa05bca",
       "version_major": 2,
       "version_minor": 0
      },
      "text/plain": [
       "  0%|          | 0/30 [00:00<?, ?it/s]"
      ]
     },
     "metadata": {},
     "output_type": "display_data"
    },
    {
     "data": {
      "application/vnd.jupyter.widget-view+json": {
       "model_id": "03636074c5a94caaa7053a9bcda88b97",
       "version_major": 2,
       "version_minor": 0
      },
      "text/plain": [
       "  0%|          | 0/9 [00:00<?, ?it/s]"
      ]
     },
     "metadata": {},
     "output_type": "display_data"
    },
    {
     "name": "stdout",
     "output_type": "stream",
     "text": [
      "Mean train loss at this stage is 0.6043295330471463, IoU = 0.06789387271234357\n"
     ]
    },
    {
     "data": {
      "application/vnd.jupyter.widget-view+json": {
       "model_id": "bf21cc19d3b649d193c2076939ef4c50",
       "version_major": 2,
       "version_minor": 0
      },
      "text/plain": [
       "  0%|          | 0/1 [00:00<?, ?it/s]"
      ]
     },
     "metadata": {},
     "output_type": "display_data"
    },
    {
     "name": "stdout",
     "output_type": "stream",
     "text": [
      "Mean validation loss at this stage is 1.6439499855041504, IoU = 0.07433504682905932\n"
     ]
    },
    {
     "data": {
      "application/vnd.jupyter.widget-view+json": {
       "model_id": "09986c560d5e4981bc27d06031b91175",
       "version_major": 2,
       "version_minor": 0
      },
      "text/plain": [
       "  0%|          | 0/9 [00:00<?, ?it/s]"
      ]
     },
     "metadata": {},
     "output_type": "display_data"
    },
    {
     "name": "stdout",
     "output_type": "stream",
     "text": [
      "Mean train loss at this stage is 0.3754134343730079, IoU = 0.023339732231486228\n"
     ]
    },
    {
     "data": {
      "application/vnd.jupyter.widget-view+json": {
       "model_id": "a9ea868a00f740ceac50701c498ec42a",
       "version_major": 2,
       "version_minor": 0
      },
      "text/plain": [
       "  0%|          | 0/1 [00:00<?, ?it/s]"
      ]
     },
     "metadata": {},
     "output_type": "display_data"
    },
    {
     "name": "stdout",
     "output_type": "stream",
     "text": [
      "Mean validation loss at this stage is 0.38179031014442444, IoU = 0.0022518206209275584\n"
     ]
    },
    {
     "data": {
      "application/vnd.jupyter.widget-view+json": {
       "model_id": "6e7f665090a04d159d5ee5e8e4fc65d2",
       "version_major": 2,
       "version_minor": 0
      },
      "text/plain": [
       "  0%|          | 0/9 [00:00<?, ?it/s]"
      ]
     },
     "metadata": {},
     "output_type": "display_data"
    },
    {
     "name": "stdout",
     "output_type": "stream",
     "text": [
      "Mean train loss at this stage is 0.2779000699520111, IoU = 0.013281402237756238\n"
     ]
    },
    {
     "data": {
      "application/vnd.jupyter.widget-view+json": {
       "model_id": "81915706b91f43cb96fc0a15d1341190",
       "version_major": 2,
       "version_minor": 0
      },
      "text/plain": [
       "  0%|          | 0/1 [00:00<?, ?it/s]"
      ]
     },
     "metadata": {},
     "output_type": "display_data"
    },
    {
     "name": "stdout",
     "output_type": "stream",
     "text": [
      "Mean validation loss at this stage is 0.27225151658058167, IoU = 0.03153950953678474\n"
     ]
    },
    {
     "data": {
      "application/vnd.jupyter.widget-view+json": {
       "model_id": "8d7fb41ef0534dd582985b4dfbcab0a2",
       "version_major": 2,
       "version_minor": 0
      },
      "text/plain": [
       "  0%|          | 0/9 [00:00<?, ?it/s]"
      ]
     },
     "metadata": {},
     "output_type": "display_data"
    },
    {
     "name": "stdout",
     "output_type": "stream",
     "text": [
      "Mean train loss at this stage is 0.22347577744060093, IoU = 0.07975602861984332\n"
     ]
    },
    {
     "data": {
      "application/vnd.jupyter.widget-view+json": {
       "model_id": "1be6540ebc1642e99b018b2ebbd3ee6e",
       "version_major": 2,
       "version_minor": 0
      },
      "text/plain": [
       "  0%|          | 0/1 [00:00<?, ?it/s]"
      ]
     },
     "metadata": {},
     "output_type": "display_data"
    },
    {
     "name": "stdout",
     "output_type": "stream",
     "text": [
      "Mean validation loss at this stage is 0.22100742161273956, IoU = 0.06118362503708098\n"
     ]
    },
    {
     "data": {
      "application/vnd.jupyter.widget-view+json": {
       "model_id": "03aba2978776454391a9914532bd889a",
       "version_major": 2,
       "version_minor": 0
      },
      "text/plain": [
       "  0%|          | 0/9 [00:00<?, ?it/s]"
      ]
     },
     "metadata": {},
     "output_type": "display_data"
    },
    {
     "name": "stdout",
     "output_type": "stream",
     "text": [
      "Mean train loss at this stage is 0.1915743284755283, IoU = 0.20792041369200018\n"
     ]
    },
    {
     "data": {
      "application/vnd.jupyter.widget-view+json": {
       "model_id": "35e17d7cafba4e469a1879b0dd64e1ca",
       "version_major": 2,
       "version_minor": 0
      },
      "text/plain": [
       "  0%|          | 0/1 [00:00<?, ?it/s]"
      ]
     },
     "metadata": {},
     "output_type": "display_data"
    },
    {
     "name": "stdout",
     "output_type": "stream",
     "text": [
      "Mean validation loss at this stage is 0.21946890652179718, IoU = 0.11265815212514581\n"
     ]
    },
    {
     "data": {
      "application/vnd.jupyter.widget-view+json": {
       "model_id": "67416c59dcf24633a1fdfa01f2af87ce",
       "version_major": 2,
       "version_minor": 0
      },
      "text/plain": [
       "  0%|          | 0/9 [00:00<?, ?it/s]"
      ]
     },
     "metadata": {},
     "output_type": "display_data"
    },
    {
     "name": "stdout",
     "output_type": "stream",
     "text": [
      "Mean train loss at this stage is 0.1732435640361574, IoU = 0.2854942277070592\n"
     ]
    },
    {
     "data": {
      "application/vnd.jupyter.widget-view+json": {
       "model_id": "1b843601b10c402ea65f0e0acb6250e3",
       "version_major": 2,
       "version_minor": 0
      },
      "text/plain": [
       "  0%|          | 0/1 [00:00<?, ?it/s]"
      ]
     },
     "metadata": {},
     "output_type": "display_data"
    },
    {
     "name": "stdout",
     "output_type": "stream",
     "text": [
      "Mean validation loss at this stage is 0.1474420428276062, IoU = 0.3725247305738909\n"
     ]
    },
    {
     "data": {
      "application/vnd.jupyter.widget-view+json": {
       "model_id": "cfe8be05541d4c4798da69c75f25e35c",
       "version_major": 2,
       "version_minor": 0
      },
      "text/plain": [
       "  0%|          | 0/9 [00:00<?, ?it/s]"
      ]
     },
     "metadata": {},
     "output_type": "display_data"
    },
    {
     "name": "stdout",
     "output_type": "stream",
     "text": [
      "Mean train loss at this stage is 0.16211537188953823, IoU = 0.32263963763072667\n"
     ]
    },
    {
     "data": {
      "application/vnd.jupyter.widget-view+json": {
       "model_id": "cd77a81c9f2940ccbdb70f4827e02b71",
       "version_major": 2,
       "version_minor": 0
      },
      "text/plain": [
       "  0%|          | 0/1 [00:00<?, ?it/s]"
      ]
     },
     "metadata": {},
     "output_type": "display_data"
    },
    {
     "name": "stdout",
     "output_type": "stream",
     "text": [
      "Mean validation loss at this stage is 0.15891806781291962, IoU = 0.36126564673157163\n"
     ]
    },
    {
     "data": {
      "application/vnd.jupyter.widget-view+json": {
       "model_id": "84be3cd398924c18989ee4574d765182",
       "version_major": 2,
       "version_minor": 0
      },
      "text/plain": [
       "  0%|          | 0/9 [00:00<?, ?it/s]"
      ]
     },
     "metadata": {},
     "output_type": "display_data"
    },
    {
     "name": "stdout",
     "output_type": "stream",
     "text": [
      "Mean train loss at this stage is 0.15356017980310652, IoU = 0.35604195768321684\n"
     ]
    },
    {
     "data": {
      "application/vnd.jupyter.widget-view+json": {
       "model_id": "2c257fb446324911b46f4e0a2c3dfb12",
       "version_major": 2,
       "version_minor": 0
      },
      "text/plain": [
       "  0%|          | 0/1 [00:00<?, ?it/s]"
      ]
     },
     "metadata": {},
     "output_type": "display_data"
    },
    {
     "name": "stdout",
     "output_type": "stream",
     "text": [
      "Mean validation loss at this stage is 0.1520286202430725, IoU = 0.3613967268175985\n"
     ]
    },
    {
     "data": {
      "application/vnd.jupyter.widget-view+json": {
       "model_id": "b34f375b046e4f0787a9d22dd8e98c22",
       "version_major": 2,
       "version_minor": 0
      },
      "text/plain": [
       "  0%|          | 0/9 [00:00<?, ?it/s]"
      ]
     },
     "metadata": {},
     "output_type": "display_data"
    },
    {
     "name": "stdout",
     "output_type": "stream",
     "text": [
      "Mean train loss at this stage is 0.1429834332731035, IoU = 0.37338172218289745\n"
     ]
    },
    {
     "data": {
      "application/vnd.jupyter.widget-view+json": {
       "model_id": "d341247225764317bb5f6a95f54392d8",
       "version_major": 2,
       "version_minor": 0
      },
      "text/plain": [
       "  0%|          | 0/1 [00:00<?, ?it/s]"
      ]
     },
     "metadata": {},
     "output_type": "display_data"
    },
    {
     "name": "stdout",
     "output_type": "stream",
     "text": [
      "Mean validation loss at this stage is 0.1843521147966385, IoU = 0.2929355570802766\n"
     ]
    },
    {
     "data": {
      "application/vnd.jupyter.widget-view+json": {
       "model_id": "19d3e073630142d1aba5d87d4837fec6",
       "version_major": 2,
       "version_minor": 0
      },
      "text/plain": [
       "  0%|          | 0/9 [00:00<?, ?it/s]"
      ]
     },
     "metadata": {},
     "output_type": "display_data"
    },
    {
     "name": "stdout",
     "output_type": "stream",
     "text": [
      "Mean train loss at this stage is 0.1400244782368342, IoU = 0.3786563610000653\n"
     ]
    },
    {
     "data": {
      "application/vnd.jupyter.widget-view+json": {
       "model_id": "b244564b00e24a019756220d1175a434",
       "version_major": 2,
       "version_minor": 0
      },
      "text/plain": [
       "  0%|          | 0/1 [00:00<?, ?it/s]"
      ]
     },
     "metadata": {},
     "output_type": "display_data"
    },
    {
     "name": "stdout",
     "output_type": "stream",
     "text": [
      "Mean validation loss at this stage is 0.17583639919757843, IoU = 0.31976887900135953\n"
     ]
    },
    {
     "data": {
      "application/vnd.jupyter.widget-view+json": {
       "model_id": "203db26d96ed47a9b4ff71f71ffaa436",
       "version_major": 2,
       "version_minor": 0
      },
      "text/plain": [
       "  0%|          | 0/9 [00:00<?, ?it/s]"
      ]
     },
     "metadata": {},
     "output_type": "display_data"
    },
    {
     "name": "stdout",
     "output_type": "stream",
     "text": [
      "Mean train loss at this stage is 0.13527282575766245, IoU = 0.39063141554655434\n"
     ]
    },
    {
     "data": {
      "application/vnd.jupyter.widget-view+json": {
       "model_id": "32e4de1de9e94552921e8ced0c40e9a4",
       "version_major": 2,
       "version_minor": 0
      },
      "text/plain": [
       "  0%|          | 0/1 [00:00<?, ?it/s]"
      ]
     },
     "metadata": {},
     "output_type": "display_data"
    },
    {
     "name": "stdout",
     "output_type": "stream",
     "text": [
      "Mean validation loss at this stage is 0.1295318454504013, IoU = 0.4800499179431072\n"
     ]
    },
    {
     "data": {
      "application/vnd.jupyter.widget-view+json": {
       "model_id": "0ed40c22e00e4f66a545adef32ad8259",
       "version_major": 2,
       "version_minor": 0
      },
      "text/plain": [
       "  0%|          | 0/9 [00:00<?, ?it/s]"
      ]
     },
     "metadata": {},
     "output_type": "display_data"
    },
    {
     "name": "stdout",
     "output_type": "stream",
     "text": [
      "Mean train loss at this stage is 0.13687775201267666, IoU = 0.38885510197183526\n"
     ]
    },
    {
     "data": {
      "application/vnd.jupyter.widget-view+json": {
       "model_id": "fb1ddde3f45b4a67984cfa33e5c3e0e0",
       "version_major": 2,
       "version_minor": 0
      },
      "text/plain": [
       "  0%|          | 0/1 [00:00<?, ?it/s]"
      ]
     },
     "metadata": {},
     "output_type": "display_data"
    },
    {
     "name": "stdout",
     "output_type": "stream",
     "text": [
      "Mean validation loss at this stage is 0.15721935033798218, IoU = 0.32793296089385476\n"
     ]
    },
    {
     "data": {
      "application/vnd.jupyter.widget-view+json": {
       "model_id": "4694c3491fa44115b9289b1ac24d4ed0",
       "version_major": 2,
       "version_minor": 0
      },
      "text/plain": [
       "  0%|          | 0/9 [00:00<?, ?it/s]"
      ]
     },
     "metadata": {},
     "output_type": "display_data"
    },
    {
     "name": "stdout",
     "output_type": "stream",
     "text": [
      "Mean train loss at this stage is 0.13511639336744943, IoU = 0.38887720513238805\n"
     ]
    },
    {
     "data": {
      "application/vnd.jupyter.widget-view+json": {
       "model_id": "8a56c766608049e1aa3e5538ba8cce50",
       "version_major": 2,
       "version_minor": 0
      },
      "text/plain": [
       "  0%|          | 0/1 [00:00<?, ?it/s]"
      ]
     },
     "metadata": {},
     "output_type": "display_data"
    },
    {
     "name": "stdout",
     "output_type": "stream",
     "text": [
      "Mean validation loss at this stage is 0.14168787002563477, IoU = 0.48957919401471656\n"
     ]
    },
    {
     "data": {
      "application/vnd.jupyter.widget-view+json": {
       "model_id": "dfe6b3fa16ee4796a52ce7716dde8b14",
       "version_major": 2,
       "version_minor": 0
      },
      "text/plain": [
       "  0%|          | 0/9 [00:00<?, ?it/s]"
      ]
     },
     "metadata": {},
     "output_type": "display_data"
    },
    {
     "name": "stdout",
     "output_type": "stream",
     "text": [
      "Mean train loss at this stage is 0.1299593597650528, IoU = 0.40522425550173324\n"
     ]
    },
    {
     "data": {
      "application/vnd.jupyter.widget-view+json": {
       "model_id": "3d7acddf5197409fba07c58cff1400e5",
       "version_major": 2,
       "version_minor": 0
      },
      "text/plain": [
       "  0%|          | 0/1 [00:00<?, ?it/s]"
      ]
     },
     "metadata": {},
     "output_type": "display_data"
    },
    {
     "name": "stdout",
     "output_type": "stream",
     "text": [
      "Mean validation loss at this stage is 0.1586127132177353, IoU = 0.41707173161754374\n"
     ]
    },
    {
     "data": {
      "application/vnd.jupyter.widget-view+json": {
       "model_id": "397a52a06ba948fe8981a4d5264288d3",
       "version_major": 2,
       "version_minor": 0
      },
      "text/plain": [
       "  0%|          | 0/9 [00:00<?, ?it/s]"
      ]
     },
     "metadata": {},
     "output_type": "display_data"
    },
    {
     "name": "stdout",
     "output_type": "stream",
     "text": [
      "Mean train loss at this stage is 0.12559666567378575, IoU = 0.4080257720530488\n"
     ]
    },
    {
     "data": {
      "application/vnd.jupyter.widget-view+json": {
       "model_id": "fe291a06dcfd4f8aaa12dd3886da43a7",
       "version_major": 2,
       "version_minor": 0
      },
      "text/plain": [
       "  0%|          | 0/1 [00:00<?, ?it/s]"
      ]
     },
     "metadata": {},
     "output_type": "display_data"
    },
    {
     "name": "stdout",
     "output_type": "stream",
     "text": [
      "Mean validation loss at this stage is 0.14601711928844452, IoU = 0.386962572328426\n"
     ]
    },
    {
     "data": {
      "application/vnd.jupyter.widget-view+json": {
       "model_id": "518b8ca371464dc4be80e4a421575687",
       "version_major": 2,
       "version_minor": 0
      },
      "text/plain": [
       "  0%|          | 0/9 [00:00<?, ?it/s]"
      ]
     },
     "metadata": {},
     "output_type": "display_data"
    },
    {
     "name": "stdout",
     "output_type": "stream",
     "text": [
      "Mean train loss at this stage is 0.12812429004245335, IoU = 0.4139951379619641\n"
     ]
    },
    {
     "data": {
      "application/vnd.jupyter.widget-view+json": {
       "model_id": "4ba29e87c69d42f38cc13c3c3fbfc52a",
       "version_major": 2,
       "version_minor": 0
      },
      "text/plain": [
       "  0%|          | 0/1 [00:00<?, ?it/s]"
      ]
     },
     "metadata": {},
     "output_type": "display_data"
    },
    {
     "name": "stdout",
     "output_type": "stream",
     "text": [
      "Mean validation loss at this stage is 0.1734926551580429, IoU = 0.34510586149353356\n"
     ]
    },
    {
     "data": {
      "application/vnd.jupyter.widget-view+json": {
       "model_id": "2fb7f854d3034e1d9e1d654e5a4b6314",
       "version_major": 2,
       "version_minor": 0
      },
      "text/plain": [
       "  0%|          | 0/9 [00:00<?, ?it/s]"
      ]
     },
     "metadata": {},
     "output_type": "display_data"
    },
    {
     "name": "stdout",
     "output_type": "stream",
     "text": [
      "Mean train loss at this stage is 0.12920793973737293, IoU = 0.40810628890588607\n"
     ]
    },
    {
     "data": {
      "application/vnd.jupyter.widget-view+json": {
       "model_id": "5d1e2b97f11d45b4bcfa8f8105bd9364",
       "version_major": 2,
       "version_minor": 0
      },
      "text/plain": [
       "  0%|          | 0/1 [00:00<?, ?it/s]"
      ]
     },
     "metadata": {},
     "output_type": "display_data"
    },
    {
     "name": "stdout",
     "output_type": "stream",
     "text": [
      "Mean validation loss at this stage is 0.12876251339912415, IoU = 0.4929360390444387\n"
     ]
    },
    {
     "data": {
      "application/vnd.jupyter.widget-view+json": {
       "model_id": "cde225330ae347bb96c01615876b3216",
       "version_major": 2,
       "version_minor": 0
      },
      "text/plain": [
       "  0%|          | 0/9 [00:00<?, ?it/s]"
      ]
     },
     "metadata": {},
     "output_type": "display_data"
    },
    {
     "name": "stdout",
     "output_type": "stream",
     "text": [
      "Mean train loss at this stage is 0.1257253901826011, IoU = 0.41325875450461785\n"
     ]
    },
    {
     "data": {
      "application/vnd.jupyter.widget-view+json": {
       "model_id": "29b8ff36a4b9446097b38a3396906064",
       "version_major": 2,
       "version_minor": 0
      },
      "text/plain": [
       "  0%|          | 0/1 [00:00<?, ?it/s]"
      ]
     },
     "metadata": {},
     "output_type": "display_data"
    },
    {
     "name": "stdout",
     "output_type": "stream",
     "text": [
      "Mean validation loss at this stage is 0.1497398465871811, IoU = 0.4134365013611078\n"
     ]
    },
    {
     "data": {
      "application/vnd.jupyter.widget-view+json": {
       "model_id": "91ea5cdb2116462bbc386f0a7f2f5e83",
       "version_major": 2,
       "version_minor": 0
      },
      "text/plain": [
       "  0%|          | 0/9 [00:00<?, ?it/s]"
      ]
     },
     "metadata": {},
     "output_type": "display_data"
    },
    {
     "name": "stdout",
     "output_type": "stream",
     "text": [
      "Mean train loss at this stage is 0.12788397984372246, IoU = 0.4158304545823226\n"
     ]
    },
    {
     "data": {
      "application/vnd.jupyter.widget-view+json": {
       "model_id": "0c76483607b9426d97befc58cbce870c",
       "version_major": 2,
       "version_minor": 0
      },
      "text/plain": [
       "  0%|          | 0/1 [00:00<?, ?it/s]"
      ]
     },
     "metadata": {},
     "output_type": "display_data"
    },
    {
     "name": "stdout",
     "output_type": "stream",
     "text": [
      "Mean validation loss at this stage is 0.11150582879781723, IoU = 0.5406398437629301\n"
     ]
    },
    {
     "data": {
      "application/vnd.jupyter.widget-view+json": {
       "model_id": "935bc6984b8f408b8b4733eecf3dcd21",
       "version_major": 2,
       "version_minor": 0
      },
      "text/plain": [
       "  0%|          | 0/9 [00:00<?, ?it/s]"
      ]
     },
     "metadata": {},
     "output_type": "display_data"
    },
    {
     "name": "stdout",
     "output_type": "stream",
     "text": [
      "Mean train loss at this stage is 0.1253526525364982, IoU = 0.42482207752403345\n"
     ]
    },
    {
     "data": {
      "application/vnd.jupyter.widget-view+json": {
       "model_id": "332f3e1fe9c04ef0bb02cc7d2a6d27a1",
       "version_major": 2,
       "version_minor": 0
      },
      "text/plain": [
       "  0%|          | 0/1 [00:00<?, ?it/s]"
      ]
     },
     "metadata": {},
     "output_type": "display_data"
    },
    {
     "name": "stdout",
     "output_type": "stream",
     "text": [
      "Mean validation loss at this stage is 0.1197509840130806, IoU = 0.521073276581539\n"
     ]
    },
    {
     "data": {
      "application/vnd.jupyter.widget-view+json": {
       "model_id": "1301a541104944acbf26c146625f0e23",
       "version_major": 2,
       "version_minor": 0
      },
      "text/plain": [
       "  0%|          | 0/9 [00:00<?, ?it/s]"
      ]
     },
     "metadata": {},
     "output_type": "display_data"
    },
    {
     "name": "stdout",
     "output_type": "stream",
     "text": [
      "Mean train loss at this stage is 0.12348658343156178, IoU = 0.42544750860888975\n"
     ]
    },
    {
     "data": {
      "application/vnd.jupyter.widget-view+json": {
       "model_id": "662de68e8b204ab29b2cf508d85562ac",
       "version_major": 2,
       "version_minor": 0
      },
      "text/plain": [
       "  0%|          | 0/1 [00:00<?, ?it/s]"
      ]
     },
     "metadata": {},
     "output_type": "display_data"
    },
    {
     "name": "stdout",
     "output_type": "stream",
     "text": [
      "Mean validation loss at this stage is 0.11077912151813507, IoU = 0.4680805897564553\n"
     ]
    },
    {
     "data": {
      "application/vnd.jupyter.widget-view+json": {
       "model_id": "15eb272aa684493cae076414e5c695e7",
       "version_major": 2,
       "version_minor": 0
      },
      "text/plain": [
       "  0%|          | 0/9 [00:00<?, ?it/s]"
      ]
     },
     "metadata": {},
     "output_type": "display_data"
    },
    {
     "name": "stdout",
     "output_type": "stream",
     "text": [
      "Mean train loss at this stage is 0.12193800922897127, IoU = 0.43385965053716286\n"
     ]
    },
    {
     "data": {
      "application/vnd.jupyter.widget-view+json": {
       "model_id": "06c9a6e9775446c9bac3113655ee14b3",
       "version_major": 2,
       "version_minor": 0
      },
      "text/plain": [
       "  0%|          | 0/1 [00:00<?, ?it/s]"
      ]
     },
     "metadata": {},
     "output_type": "display_data"
    },
    {
     "name": "stdout",
     "output_type": "stream",
     "text": [
      "Mean validation loss at this stage is 0.10588888078927994, IoU = 0.5607972063172466\n"
     ]
    },
    {
     "data": {
      "application/vnd.jupyter.widget-view+json": {
       "model_id": "aee410824fc04051826513f1dfcf9825",
       "version_major": 2,
       "version_minor": 0
      },
      "text/plain": [
       "  0%|          | 0/9 [00:00<?, ?it/s]"
      ]
     },
     "metadata": {},
     "output_type": "display_data"
    },
    {
     "name": "stdout",
     "output_type": "stream",
     "text": [
      "Mean train loss at this stage is 0.11956905325253804, IoU = 0.43304753675802227\n"
     ]
    },
    {
     "data": {
      "application/vnd.jupyter.widget-view+json": {
       "model_id": "7a9fbbc9964e4abd989edbf628606af9",
       "version_major": 2,
       "version_minor": 0
      },
      "text/plain": [
       "  0%|          | 0/1 [00:00<?, ?it/s]"
      ]
     },
     "metadata": {},
     "output_type": "display_data"
    },
    {
     "name": "stdout",
     "output_type": "stream",
     "text": [
      "Mean validation loss at this stage is 0.0960470512509346, IoU = 0.43267269017779075\n"
     ]
    },
    {
     "data": {
      "application/vnd.jupyter.widget-view+json": {
       "model_id": "727e6b8528bb4189b4201970bcbae919",
       "version_major": 2,
       "version_minor": 0
      },
      "text/plain": [
       "  0%|          | 0/9 [00:00<?, ?it/s]"
      ]
     },
     "metadata": {},
     "output_type": "display_data"
    },
    {
     "name": "stdout",
     "output_type": "stream",
     "text": [
      "Mean train loss at this stage is 0.11698724246687359, IoU = 0.4447378511698363\n"
     ]
    },
    {
     "data": {
      "application/vnd.jupyter.widget-view+json": {
       "model_id": "a86c298b9f734d629d52a7c826c8ad77",
       "version_major": 2,
       "version_minor": 0
      },
      "text/plain": [
       "  0%|          | 0/1 [00:00<?, ?it/s]"
      ]
     },
     "metadata": {},
     "output_type": "display_data"
    },
    {
     "name": "stdout",
     "output_type": "stream",
     "text": [
      "Mean validation loss at this stage is 0.11566215753555298, IoU = 0.5174455282185665\n"
     ]
    },
    {
     "data": {
      "application/vnd.jupyter.widget-view+json": {
       "model_id": "b5d778f9b2cf46a8802c11fe3c5ca045",
       "version_major": 2,
       "version_minor": 0
      },
      "text/plain": [
       "  0%|          | 0/9 [00:00<?, ?it/s]"
      ]
     },
     "metadata": {},
     "output_type": "display_data"
    },
    {
     "name": "stdout",
     "output_type": "stream",
     "text": [
      "Mean train loss at this stage is 0.11607801500293943, IoU = 0.45996479265129786\n"
     ]
    },
    {
     "data": {
      "application/vnd.jupyter.widget-view+json": {
       "model_id": "afee453030f845f3b27caa23ffb2c142",
       "version_major": 2,
       "version_minor": 0
      },
      "text/plain": [
       "  0%|          | 0/1 [00:00<?, ?it/s]"
      ]
     },
     "metadata": {},
     "output_type": "display_data"
    },
    {
     "name": "stdout",
     "output_type": "stream",
     "text": [
      "Mean validation loss at this stage is 0.11686551570892334, IoU = 0.5267131604346337\n"
     ]
    },
    {
     "data": {
      "application/vnd.jupyter.widget-view+json": {
       "model_id": "7eee0bfb71c44eab82ac5306e21a2d7a",
       "version_major": 2,
       "version_minor": 0
      },
      "text/plain": [
       "  0%|          | 0/9 [00:00<?, ?it/s]"
      ]
     },
     "metadata": {},
     "output_type": "display_data"
    },
    {
     "name": "stdout",
     "output_type": "stream",
     "text": [
      "Mean train loss at this stage is 0.11548356546296014, IoU = 0.44418065635679643\n"
     ]
    },
    {
     "data": {
      "application/vnd.jupyter.widget-view+json": {
       "model_id": "4da4dca9aca94827ac58761140132d2c",
       "version_major": 2,
       "version_minor": 0
      },
      "text/plain": [
       "  0%|          | 0/1 [00:00<?, ?it/s]"
      ]
     },
     "metadata": {},
     "output_type": "display_data"
    },
    {
     "name": "stdout",
     "output_type": "stream",
     "text": [
      "Mean validation loss at this stage is 0.11019536107778549, IoU = 0.4996421670364274\n"
     ]
    },
    {
     "data": {
      "application/vnd.jupyter.widget-view+json": {
       "model_id": "cd022e3129194cc6b9f3b9f059100d10",
       "version_major": 2,
       "version_minor": 0
      },
      "text/plain": [
       "  0%|          | 0/9 [00:00<?, ?it/s]"
      ]
     },
     "metadata": {},
     "output_type": "display_data"
    },
    {
     "name": "stdout",
     "output_type": "stream",
     "text": [
      "Mean train loss at this stage is 0.11778661691480213, IoU = 0.440501948411311\n"
     ]
    },
    {
     "data": {
      "application/vnd.jupyter.widget-view+json": {
       "model_id": "410a00f56c6c4791b87702f60182eecb",
       "version_major": 2,
       "version_minor": 0
      },
      "text/plain": [
       "  0%|          | 0/1 [00:00<?, ?it/s]"
      ]
     },
     "metadata": {},
     "output_type": "display_data"
    },
    {
     "name": "stdout",
     "output_type": "stream",
     "text": [
      "Mean validation loss at this stage is 0.11897409707307816, IoU = 0.5321169806349625\n"
     ]
    },
    {
     "data": {
      "application/vnd.jupyter.widget-view+json": {
       "model_id": "5e49ab3a74754bde8de52e414e61ac49",
       "version_major": 2,
       "version_minor": 0
      },
      "text/plain": [
       "  0%|          | 0/9 [00:00<?, ?it/s]"
      ]
     },
     "metadata": {},
     "output_type": "display_data"
    },
    {
     "name": "stdout",
     "output_type": "stream",
     "text": [
      "Mean train loss at this stage is 0.11917245388031006, IoU = 0.44576499706884515\n"
     ]
    },
    {
     "data": {
      "application/vnd.jupyter.widget-view+json": {
       "model_id": "1e70e16de9244dbfaa635234ec30d348",
       "version_major": 2,
       "version_minor": 0
      },
      "text/plain": [
       "  0%|          | 0/1 [00:00<?, ?it/s]"
      ]
     },
     "metadata": {},
     "output_type": "display_data"
    },
    {
     "name": "stdout",
     "output_type": "stream",
     "text": [
      "Mean validation loss at this stage is 0.10586581379175186, IoU = 0.5275313940549992\n"
     ]
    },
    {
     "data": {
      "application/vnd.jupyter.widget-view+json": {
       "model_id": "c3e4074921d042fc9cd38eda25a4f062",
       "version_major": 2,
       "version_minor": 0
      },
      "text/plain": [
       "  0%|          | 0/9 [00:00<?, ?it/s]"
      ]
     },
     "metadata": {},
     "output_type": "display_data"
    },
    {
     "name": "stdout",
     "output_type": "stream",
     "text": [
      "Mean train loss at this stage is 0.11848843346039455, IoU = 0.446326913776153\n"
     ]
    },
    {
     "data": {
      "application/vnd.jupyter.widget-view+json": {
       "model_id": "14f177caabb64fe78e435f2dbdbd9084",
       "version_major": 2,
       "version_minor": 0
      },
      "text/plain": [
       "  0%|          | 0/1 [00:00<?, ?it/s]"
      ]
     },
     "metadata": {},
     "output_type": "display_data"
    },
    {
     "name": "stdout",
     "output_type": "stream",
     "text": [
      "Mean validation loss at this stage is 0.12560071051120758, IoU = 0.5165412071886892\n"
     ]
    },
    {
     "data": {
      "application/vnd.jupyter.widget-view+json": {
       "model_id": "ba79f9f62ae54cbbb6f10f2197e12346",
       "version_major": 2,
       "version_minor": 0
      },
      "text/plain": [
       "  0%|          | 0/9 [00:00<?, ?it/s]"
      ]
     },
     "metadata": {},
     "output_type": "display_data"
    },
    {
     "name": "stdout",
     "output_type": "stream",
     "text": [
      "Mean train loss at this stage is 0.11657709876696269, IoU = 0.4483746657733864\n"
     ]
    },
    {
     "data": {
      "application/vnd.jupyter.widget-view+json": {
       "model_id": "ea7d080186084ed594cf1af1b6062d5e",
       "version_major": 2,
       "version_minor": 0
      },
      "text/plain": [
       "  0%|          | 0/1 [00:00<?, ?it/s]"
      ]
     },
     "metadata": {},
     "output_type": "display_data"
    },
    {
     "name": "stdout",
     "output_type": "stream",
     "text": [
      "Mean validation loss at this stage is 0.12041885405778885, IoU = 0.5107563978717206\n"
     ]
    }
   ],
   "source": [
    "from torchvision.transforms import ToPILImage\n",
    "from torchvision.utils import make_grid\n",
    "num_epochs = 30\n",
    "base_lr = 0.001\n",
    "model = smp.Unet(encoder_name='resnet34', in_channels=3, classes=1).to(device)\n",
    "criterion = nn.BCEWithLogitsLoss()\n",
    "optimizer = optim.AdamW(model.parameters(), lr=base_lr, weight_decay=0.001)\n",
    "scheduler = CosineAnnealingLR(optimizer, T_max=num_epochs)\n",
    "\n",
    "best_iou = 0\n",
    "\n",
    "for i in trange(num_epochs):\n",
    "    train_loss = []\n",
    "    train_iou = []\n",
    "    for data,labels in tqdm(train_loader):\n",
    "        labels[labels == 255] = 1\n",
    "        model.train()\n",
    "        data, labels = data.to(device), labels.to(device)\n",
    "        optimizer.zero_grad()\n",
    "        pred = model(data)\n",
    "        labels = labels.float().unsqueeze(1)\n",
    "        \n",
    "        pred = pred.to(device)\n",
    "        loss = criterion(pred,labels)\n",
    "        loss.backward()\n",
    "        optimizer.step()\n",
    "        \n",
    "        predicted_masks = (pred > 0.5).float()\n",
    "        intersection = torch.logical_and(predicted_masks, labels).sum().item()\n",
    "        union = torch.logical_or(predicted_masks, labels).sum().item()\n",
    "        iou = intersection / union if union != 0 else 0\n",
    "        \n",
    "        train_loss.append(loss.item())\n",
    "        train_iou.append(iou)\n",
    "    print(f\"Mean train loss at this stage is {(np.array(train_loss).mean())}, IoU = {(np.array(train_iou).mean())}\")\n",
    "    with torch.no_grad():\n",
    "        val_loss = []\n",
    "        val_iou = []\n",
    "        for data,labels in tqdm(val_loader):\n",
    "            labels[labels == 255] = 1\n",
    "            model.eval()\n",
    "\n",
    "            data, labels = data.to(device), labels.to(device)\n",
    "\n",
    "            pred = model(data)\n",
    "            labels = labels.float().unsqueeze(1)\n",
    "            loss = criterion(pred, labels)\n",
    "    \n",
    "            predicted_masks = (pred > 0.5).float()\n",
    "            intersection = torch.logical_and(predicted_masks, labels).sum().item()\n",
    "            union = torch.logical_or(predicted_masks, labels).sum().item()\n",
    "            iou = intersection / union if union != 0 else 0\n",
    "            \n",
    "            val_loss.append(loss.item())\n",
    "            val_iou.append(iou)\n",
    "        \n",
    "    print(f\"Mean validation loss at this stage is {(np.array(val_loss).mean())}, IoU = {(np.array(val_iou).mean())}\")\n",
    "    if np.array(val_iou).mean() > best_iou:\n",
    "        best_iou = np.array(val_iou).mean()\n",
    "        torch.save(model.state_dict(), \"model.pt\")\n",
    "    scheduler.step()"
   ]
  },
  {
   "cell_type": "code",
   "execution_count": 17,
   "id": "28548c8c-79a4-471c-b2f1-5b602e35ac5b",
   "metadata": {
    "tags": []
   },
   "outputs": [
    {
     "name": "stdout",
     "output_type": "stream",
     "text": [
      "Test Loss: 0.09921412169933319\n",
      "Test IOU: 0.5825922989682775\n"
     ]
    }
   ],
   "source": [
    "model.load_state_dict(torch.load('model.pt'))\n",
    "\n",
    "model.eval()\n",
    "test_loss = 0.0\n",
    "test_total_iou = 0.0\n",
    "\n",
    "with torch.no_grad():\n",
    "    for inputs, targets in test_loader:\n",
    "\n",
    "        targets[targets == 255] = 1\n",
    "\n",
    "        inputs = inputs.to(device)\n",
    "        targets = targets.to(device)\n",
    "        targets = targets.float().unsqueeze(1)\n",
    "        outputs = model(inputs)\n",
    "        loss = criterion(outputs, targets)\n",
    "        test_loss += loss.item()\n",
    "            \n",
    "        predicted_masks = (outputs > 0.5).float()\n",
    "        intersection = torch.logical_and(predicted_masks, targets).sum().item()\n",
    "        union = torch.logical_or(predicted_masks, targets).sum().item()\n",
    "        iou = intersection / union if union != 0 else 0\n",
    "        test_total_iou += iou\n",
    "\n",
    "print(f'Test Loss: {test_loss / len(test_loader)}')\n",
    "print(f'Test IOU: {test_total_iou / len(test_loader)}')"
   ]
  },
  {
   "cell_type": "code",
   "execution_count": null,
   "id": "521f100c-9a4d-49dc-841c-7ef7ef8040f3",
   "metadata": {},
   "outputs": [],
   "source": []
  }
 ],
 "metadata": {
  "kernelspec": {
   "display_name": "Python 3 (ipykernel)",
   "language": "python",
   "name": "python3"
  },
  "language_info": {
   "codemirror_mode": {
    "name": "ipython",
    "version": 3
   },
   "file_extension": ".py",
   "mimetype": "text/x-python",
   "name": "python",
   "nbconvert_exporter": "python",
   "pygments_lexer": "ipython3",
   "version": "3.11.5"
  }
 },
 "nbformat": 4,
 "nbformat_minor": 5
}
